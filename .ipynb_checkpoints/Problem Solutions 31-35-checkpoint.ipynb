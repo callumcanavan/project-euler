{
 "cells": [
  {
   "cell_type": "markdown",
   "metadata": {},
   "source": [
    "# Problem 31: Coin sums\n",
    "\n",
    "In England the currency is made up of pound, £, and pence, p, and there are eight coins in general circulation:\n",
    "\n",
    "1p, 2p, 5p, 10p, 20p, 50p, £1 (100p) and £2 (200p).\n",
    "\n",
    "It is possible to make £2 in the following way:\n",
    "\n",
    "1×£1 + 1×50p + 2×20p + 1×5p + 1×2p + 3×1p\n",
    "\n",
    "How many different ways can $\\texttt{n}$p be made using any number of coins?"
   ]
  },
  {
   "cell_type": "code",
   "execution_count": 1,
   "metadata": {},
   "outputs": [],
   "source": [
    "def generalCoinSums(N, coins):\n",
    "    # number of ways of summing up to N using coins\n",
    "    if (N == 0):\n",
    "        return 1\n",
    "    if not coins:\n",
    "        return 0\n",
    "    if (len(coins) == 1):\n",
    "        return 1 if (N % coins[0] == 0) else 0\n",
    "    if (len(coins) == 2) and (coins[1]%coins[0] == 0):\n",
    "        return (N // coins[1]) + 1 if (N % coins[0] == 0) else 0\n",
    "    while (coins[-1] > N):\n",
    "        del coins[-1]\n",
    "    last_coin = coins[-1]\n",
    "    coins = coins[:-1]\n",
    "    tot = 0\n",
    "    for i in range(0, N//last_coin+1):\n",
    "        tot += generalCoinSums(N - i*last_coin, coins)\n",
    "    return tot"
   ]
  },
  {
   "cell_type": "code",
   "execution_count": 2,
   "metadata": {},
   "outputs": [],
   "source": [
    "def coinSums(n):\n",
    "    # number of ways of summing up to N\n",
    "    coins = [1, 2, 5, 10, 20, 50, 100, 200]\n",
    "    return generalCoinSums(n, coins)"
   ]
  },
  {
   "cell_type": "code",
   "execution_count": 3,
   "metadata": {},
   "outputs": [
    {
     "data": {
      "text/plain": [
       "73682"
      ]
     },
     "execution_count": 3,
     "metadata": {},
     "output_type": "execute_result"
    }
   ],
   "source": [
    "coinSums(200)\n",
    "# should return 73682"
   ]
  },
  {
   "cell_type": "markdown",
   "metadata": {},
   "source": [
    "# Problem 32: Pandigital products\n",
    "We shall say that an n-digit number is pandigital if it makes use of all the digits 1 to n exactly once; for example, the 5-digit number, 15234, is 1 through 5 pandigital.\n",
    "\n",
    "The product 7254 is unusual, as the identity, 39 × 186 = 7254, containing multiplicand, multiplier, and product is 1 through 9 pandigital.\n",
    "\n",
    "Find the sum of all products whose multiplicand/multiplier/product identity can be written as a 1 through 9 pandigital.\n",
    "\n",
    "HINT: Some products can be obtained in more than one way so be sure to only include it once in your sum."
   ]
  },
  {
   "cell_type": "code",
   "execution_count": 4,
   "metadata": {},
   "outputs": [],
   "source": [
    "def choicePerms(subset_size, elements):\n",
    "    # generator of all permutations of all subsets size subset_size\n",
    "    # of elements\n",
    "    assert subset_size <= len(elements) \n",
    "    if subset_size == 0:\n",
    "        yield elements[0:0]\n",
    "    else:\n",
    "        for i in range(len(elements)):\n",
    "            new_elements = elements[:i] + elements[i+1:]\n",
    "            for choice_perm in choicePerms(subset_size-1, new_elements):\n",
    "                yield elements[i:i+1] + choice_perm"
   ]
  },
  {
   "cell_type": "code",
   "execution_count": 5,
   "metadata": {},
   "outputs": [],
   "source": [
    "def pandigitalProducts():\n",
    "    # sum of all 1-through-9 pandigital products\n",
    "    num_digits = 9\n",
    "    digits = ''\n",
    "    for i in range(1, num_digits+1):\n",
    "        digits += str(i)\n",
    "    prods = []\n",
    "    for i in range(1, (num_digits+1)//4 + 1):\n",
    "        for a in choicePerms(i, digits):\n",
    "            rem_digits = digits[:]\n",
    "            for d in a:\n",
    "                rem_digits = rem_digits.replace(d, '')\n",
    "            for b in choicePerms((num_digits+1)//2-i, rem_digits):\n",
    "                c_digits = rem_digits[:]\n",
    "                for d in b:\n",
    "                    c_digits = c_digits.replace(d, '')\n",
    "                for c in choicePerms(len(c_digits), c_digits):\n",
    "                    c = int(c)\n",
    "                    if (int(a) * int(b)) == c and (c not in prods):\n",
    "                        prods += [c]\n",
    "    return sum(prods)"
   ]
  },
  {
   "cell_type": "code",
   "execution_count": 6,
   "metadata": {},
   "outputs": [
    {
     "data": {
      "text/plain": [
       "45228"
      ]
     },
     "execution_count": 6,
     "metadata": {},
     "output_type": "execute_result"
    }
   ],
   "source": [
    "pandigitalProducts()\n",
    "# should return 45228"
   ]
  },
  {
   "cell_type": "markdown",
   "metadata": {},
   "source": [
    "# Problem 33: Digit cancelling fractions\n",
    "The fraction 49/98 is a curious fraction, as an inexperienced mathematician in attempting to simplify it may incorrectly believe that 49/98 = 4/8, which is correct, is obtained by cancelling the 9s.\n",
    "\n",
    "We shall consider fractions like, 30/50 = 3/5, to be trivial examples.\n",
    "\n",
    "There are exactly four non-trivial examples of this type of fraction, less than one in value, and containing two digits in the numerator and denominator.\n",
    "\n",
    "If the product of these four fractions is given in its lowest common terms, find the value of the denominator."
   ]
  },
  {
   "cell_type": "code",
   "execution_count": 7,
   "metadata": {},
   "outputs": [],
   "source": [
    "def greatestCommonDivisor(a, b):\n",
    "    # greatest common divisor of a and b\n",
    "    r = a % b\n",
    "    while r:\n",
    "        a = b\n",
    "        b = r\n",
    "        r = a % b\n",
    "    return b"
   ]
  },
  {
   "cell_type": "code",
   "execution_count": 8,
   "metadata": {},
   "outputs": [],
   "source": [
    "def digitCancellingFractions():\n",
    "    # denominator of product of all 2 digit cancelling fractions\n",
    "    # in lowest common terms\n",
    "    possible_qs = [6, 9]\n",
    "    num = dem = 1\n",
    "    for q in possible_qs:\n",
    "        for p in range(1,10):\n",
    "            ratio = 10 / (p*9/q + 1)\n",
    "            s = ratio * p\n",
    "            if s.is_integer() and s != p:\n",
    "                num *= int(min(s, p))\n",
    "                dem *= int(max(s, p))\n",
    "    return dem // greatestCommonDivisor(num, dem) "
   ]
  },
  {
   "cell_type": "code",
   "execution_count": 9,
   "metadata": {},
   "outputs": [
    {
     "data": {
      "text/plain": [
       "100"
      ]
     },
     "execution_count": 9,
     "metadata": {},
     "output_type": "execute_result"
    }
   ],
   "source": [
    "digitCancellingFractions()\n",
    "# should return 100"
   ]
  },
  {
   "cell_type": "markdown",
   "metadata": {},
   "source": [
    "# Problem 34: Digit factorials\n",
    "\n",
    "145 is a curious number, as 1! + 4! + 5! = 1 + 24 + 120 = 145.\n",
    "\n",
    "Find the numbers and the sum of the numbers which are equal to the sum of the factorial of their digits.\n",
    "\n",
    "Note: as 1! = 1 and 2! = 2 are not sums they are not included."
   ]
  },
  {
   "cell_type": "code",
   "execution_count": 14,
   "metadata": {},
   "outputs": [],
   "source": [
    "def sets(set_len, elements):\n",
    "    # generator of all sets length set_len consisting only of items\n",
    "    # in elements (will not be unique if items not unique)\n",
    "    if set_len == 0 or len(elements) <= 1:\n",
    "        yield elements[0:1] * set_len\n",
    "    else:\n",
    "        for i in reversed(range(set_len+1)):\n",
    "            for s in sets(set_len - i, elements[1:]):\n",
    "                yield elements[0:1] * i + s"
   ]
  },
  {
   "cell_type": "code",
   "execution_count": 1,
   "metadata": {},
   "outputs": [],
   "source": [
    "def fact(N):\n",
    "    # N factorial\n",
    "    f = 1\n",
    "    for i in range(2, N+1):\n",
    "        f *= i\n",
    "    return f"
   ]
  },
  {
   "cell_type": "code",
   "execution_count": 33,
   "metadata": {},
   "outputs": [],
   "source": [
    "def digitFactorial():\n",
    "    # numbers which are equal to the sum of the factorial of their digits\n",
    "    base, digits = 10, '0123456789'\n",
    "    max_fact = fact(base-1)\n",
    "    digit_lim = 1\n",
    "    while 10**(digit_lim-1) <= digit_lim * max_fact:\n",
    "        digit_lim += 1\n",
    "    digit_factorials = []\n",
    "    for set_len in range(2, digit_lim + 1):\n",
    "        for digit_set in sets(set_len, digits):\n",
    "            sum_fact = sum(fact(int(d)) for d in digit_set)\n",
    "            if sorted(digit_set) == sorted(str(sum_fact)):\n",
    "                digit_factorials += [sum_fact]\n",
    "    return 'sum: %s, numbers: %s' %(sum(digit_factorials), digit_factorials)"
   ]
  },
  {
   "cell_type": "code",
   "execution_count": 34,
   "metadata": {},
   "outputs": [
    {
     "data": {
      "text/plain": [
       "'sum: 40730, numbers: [145, 40585]'"
      ]
     },
     "execution_count": 34,
     "metadata": {},
     "output_type": "execute_result"
    }
   ],
   "source": [
    "digitFactorial()\n",
    "# should return 'sum: 40730, numbers: [145, 40585]'"
   ]
  },
  {
   "cell_type": "markdown",
   "metadata": {},
   "source": [
    " # Problem 35: Circular primes\n",
    "The number, 197, is called a circular prime because all rotations of the digits: 197, 971, and 719, are themselves prime.\n",
    "\n",
    "There are thirteen such primes below 100: 2, 3, 5, 7, 11, 13, 17, 31, 37, 71, 73, 79, and 97.\n",
    "\n",
    "How many circular primes are there below one million?"
   ]
  },
  {
   "cell_type": "code",
   "execution_count": 13,
   "metadata": {},
   "outputs": [],
   "source": [
    "def primeSieve(n):\n",
    "    # array of prime truth values for integers from 0 to n (inclusive)\n",
    "    if n <= 2: return [False]*(n+1)\n",
    "    sieve = [True] * (n+1)\n",
    "    sieve[:2] = [False] * 2\n",
    "    for i in range(2, int(n**0.5)+1):\n",
    "        sieve[i**2 : n+1 : i] = [False] * len(range(i**2,n+1,i))\n",
    "    return sieve"
   ]
  },
  {
   "cell_type": "code",
   "execution_count": 14,
   "metadata": {},
   "outputs": [],
   "source": [
    "def uniqueRotations(elements):\n",
    "    # generator for all unique cyclic permurations of elements\n",
    "    yield elements\n",
    "    next_els = elements[1:] + elements[:1]\n",
    "    while next_els != elements:\n",
    "        yield next_els\n",
    "        next_els = next_els[1:] + next_els[:1]"
   ]
  },
  {
   "cell_type": "code",
   "execution_count": 15,
   "metadata": {},
   "outputs": [],
   "source": [
    "def circularPrimes(n):\n",
    "    # number of circular primes below n\n",
    "    if n < 6: return (n - 1) // 2\n",
    "    max_digits = len(str(n-1))\n",
    "    prime_sieve = primeSieve(10**max_digits)\n",
    "    tot = 3\n",
    "    for i in range(6, n):\n",
    "        if not prime_sieve[i]:\n",
    "            continue\n",
    "        i_str = str(i)\n",
    "        if any([(int(d)%2==0) or (int(d)%5==0) for d in i_str]):\n",
    "            continue\n",
    "        n_perms = 0\n",
    "        for perm in uniqueRotations(i_str):\n",
    "            n_perms += 1\n",
    "            perm_str = ''\n",
    "            for d in perm:\n",
    "                perm_str += d\n",
    "            j = int(perm_str)\n",
    "            if not prime_sieve[j]:\n",
    "                break\n",
    "            prime_sieve[j] = False\n",
    "        else:\n",
    "            tot += n_perms\n",
    "    return tot"
   ]
  },
  {
   "cell_type": "code",
   "execution_count": 16,
   "metadata": {
    "scrolled": false
   },
   "outputs": [
    {
     "data": {
      "text/plain": [
       "55"
      ]
     },
     "execution_count": 16,
     "metadata": {},
     "output_type": "execute_result"
    }
   ],
   "source": [
    "circularPrimes(1000000)\n",
    "# should return 55"
   ]
  }
 ],
 "metadata": {
  "kernelspec": {
   "display_name": "Python 3",
   "language": "python",
   "name": "python3"
  },
  "language_info": {
   "codemirror_mode": {
    "name": "ipython",
    "version": 3
   },
   "file_extension": ".py",
   "mimetype": "text/x-python",
   "name": "python",
   "nbconvert_exporter": "python",
   "pygments_lexer": "ipython3",
   "version": "3.7.4"
  }
 },
 "nbformat": 4,
 "nbformat_minor": 2
}
