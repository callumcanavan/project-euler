{
 "cells": [
  {
   "cell_type": "markdown",
   "metadata": {},
   "source": [
    "# Problem 41: Pandigital prime\n",
    "We shall say that an n-digit number is pandigital if it makes use of all the digits 1 to n exactly once. For example, 2143 is a 4-digit pandigital and is also prime.\n",
    "\n",
    "What is the largest n-digit pandigital prime that exists?"
   ]
  },
  {
   "cell_type": "code",
   "execution_count": 1,
   "metadata": {},
   "outputs": [],
   "source": [
    "import string\n",
    "from numpy import gcd"
   ]
  },
  {
   "cell_type": "code",
   "execution_count": 2,
   "metadata": {},
   "outputs": [],
   "source": [
    "def descendingPerms(elements, already_sorted=False):\n",
    "    # generator of all permutations of elements in descending order \n",
    "    # (permutations will not be unique if each element not unique)\n",
    "    if not elements:\n",
    "        yield elements[0:0]\n",
    "    else:\n",
    "        if not already_sorted:\n",
    "            s = sorted(elements)\n",
    "            elements = ''.join(s) if isinstance(elements, str) else s\n",
    "        for i in reversed(range(len(elements))):\n",
    "            el = elements[i:i+1]\n",
    "            no_el = elements[:i] + elements[i+1:]\n",
    "            for perm in descendingPerms(no_el, already_sorted=True):\n",
    "                yield el + perm"
   ]
  },
  {
   "cell_type": "code",
   "execution_count": 3,
   "metadata": {},
   "outputs": [],
   "source": [
    "def isPrime(N):\n",
    "    # True if N is prime, else False\n",
    "    if N < 2: return False\n",
    "    root = int(N**0.5)\n",
    "    for i in range(2, root+1):\n",
    "        if N%i == 0:\n",
    "            return False\n",
    "    return True"
   ]
  },
  {
   "cell_type": "code",
   "execution_count": 4,
   "metadata": {},
   "outputs": [],
   "source": [
    "def pandigitalPrime(n):\n",
    "    # largest n-digit pandigital prime\n",
    "    base = 10\n",
    "    digits = string.digits[1:n+1]\n",
    "    not_last = []\n",
    "    for d in digits:\n",
    "        if gcd(base, int(d)) > 1:\n",
    "            not_last += d\n",
    "    for perm in descendingPerms(digits):\n",
    "        if perm[-1] in not_last:\n",
    "            continue\n",
    "        elif isPrime(int(perm)):\n",
    "            return int(perm)\n",
    "    else:\n",
    "        return 0"
   ]
  },
  {
   "cell_type": "code",
   "execution_count": 5,
   "metadata": {},
   "outputs": [],
   "source": [
    "def largestPandigitalPrime():\n",
    "    # largest base 10 pandigital prime\n",
    "    base = 10\n",
    "    for i in reversed(range(2, base)):\n",
    "        pand = pandigitalPrime(i)\n",
    "        if pand > 0:\n",
    "            return pand"
   ]
  },
  {
   "cell_type": "code",
   "execution_count": 6,
   "metadata": {},
   "outputs": [
    {
     "data": {
      "text/plain": [
       "7652413"
      ]
     },
     "execution_count": 6,
     "metadata": {},
     "output_type": "execute_result"
    }
   ],
   "source": [
    "largestPandigitalPrime()\n",
    "# should return 7652413"
   ]
  },
  {
   "cell_type": "markdown",
   "metadata": {},
   "source": [
    "# Problem 42: Coded triangle numbers\n",
    "The nth term of the sequence of triangle numbers is given by, $t_n = n(n+1)/2$; so the first ten triangle numbers are:\n",
    "\n",
    "$1, 3, 6, 10, 15, 21, 28, 36, 45, 55, ...$\n",
    "\n",
    "By converting each letter in a word to a number corresponding to its alphabetical position and adding these values we form a word value. For example, the word value for SKY is $19 + 11 + 25 = 55 = t_{10}$. If the word value is a triangle number then we shall call the word a triangle word.\n",
    "\n",
    "Using data > words.txt, a 16K text file containing nearly two-thousand common English words, how many are triangle words?"
   ]
  },
  {
   "cell_type": "code",
   "execution_count": 7,
   "metadata": {},
   "outputs": [],
   "source": [
    "# load names\n",
    "import numpy as np\n",
    "from pathlib import Path\n",
    "wordsFile = Path('data') / 'words.txt'\n",
    "words = np.loadtxt(wordsFile, delimiter=',', dtype='str')\n",
    "words = [w.replace('\"', '') for w in words]"
   ]
  },
  {
   "cell_type": "code",
   "execution_count": 8,
   "metadata": {},
   "outputs": [],
   "source": [
    "def codedTriangleNumbers(word_array):\n",
    "    # number of triangle-number-valued words in word_array\n",
    "    offset = 64\n",
    "    tot = 0\n",
    "    for word in word_array:\n",
    "        val = sum(ord(c) - offset for c in word)\n",
    "        triangle_position = (8 * val + 1)**0.5\n",
    "        if triangle_position.is_integer():\n",
    "            tot += 1\n",
    "    return tot"
   ]
  },
  {
   "cell_type": "code",
   "execution_count": 9,
   "metadata": {},
   "outputs": [
    {
     "data": {
      "text/plain": [
       "162"
      ]
     },
     "execution_count": 9,
     "metadata": {},
     "output_type": "execute_result"
    }
   ],
   "source": [
    "codedTriangleNumbers(words)\n",
    "# should return 162"
   ]
  },
  {
   "cell_type": "markdown",
   "metadata": {},
   "source": [
    "# Problem 43: Sub-string divisibility\n",
    "\n",
    "The number, 1406357289, is a 0 to 9 pandigital number because it is made up of each of the digits 0 to 9 in some order, but it also has a rather interesting sub-string divisibility property.\n",
    "\n",
    "Let d1 be the 1st digit, d2 be the 2nd digit, and so on. In this way, we note the following:\n",
    "\n",
    "$d_2d_3d_4=406$ is divisible by 2\n",
    "\n",
    "$d_3d_4d_5=063$ is divisible by 3\n",
    "\n",
    "$d_4d_5d_6=635$ is divisible by 5\n",
    "\n",
    "$d_5d_6d_7=357$ is divisible by 7\n",
    "\n",
    "$d_6d_7d_8=572$ is divisible by 11\n",
    "\n",
    "$d_7d_8d_9=728$ is divisible by 13\n",
    "\n",
    "$d_8d_9d_10=289$ is divisible by 17\n",
    "\n",
    "Find the sum of all 0 to 9 pandigital numbers with this property."
   ]
  },
  {
   "cell_type": "code",
   "execution_count": 10,
   "metadata": {},
   "outputs": [],
   "source": [
    "import string"
   ]
  },
  {
   "cell_type": "code",
   "execution_count": 11,
   "metadata": {},
   "outputs": [],
   "source": [
    "def substringDivisibility():\n",
    "    # sum of all pandigital numbers with the property described above\n",
    "    base = 10\n",
    "    all_digits = string.digits\n",
    "    primes = [2, 3, 5, 7, 11, 13, 17]\n",
    "    \n",
    "    pandigitals = []\n",
    "    for i in range(0, base**3, primes[-1]):\n",
    "        num_str = str(i).zfill(3)\n",
    "        digits = all_digits\n",
    "        potential_candidate = True\n",
    "        \n",
    "        for d in num_str:\n",
    "            if d in digits:\n",
    "                digits = digits.replace(d, '')\n",
    "            else:\n",
    "                potential_candidate = False\n",
    "                break\n",
    "                \n",
    "        if not potential_candidate:\n",
    "            continue\n",
    "            \n",
    "        candidates = [num_str]\n",
    "        for p in reversed(primes[:-1]):\n",
    "            new_candidates = []\n",
    "            for cand in candidates:\n",
    "                rem_digits = digits\n",
    "                for d in cand:\n",
    "                    rem_digits = rem_digits.replace(d, '')\n",
    "                    \n",
    "                for d in rem_digits:\n",
    "                    num_str = d + cand[:2]\n",
    "                    if int(num_str)%p == 0:\n",
    "                        if len(rem_digits) == 2:\n",
    "                            last_digit = rem_digits.replace(d, '')\n",
    "                            if last_digit == '0':\n",
    "                                continue\n",
    "                            d = rem_digits.replace(d, '') + d\n",
    "                        new_candidates += [d + cand]\n",
    "                        \n",
    "            candidates = new_candidates\n",
    "            if not candidates:\n",
    "                break\n",
    "        else:\n",
    "            pandigitals += candidates\n",
    "            \n",
    "    return sum(int(pand) for pand in pandigitals)"
   ]
  },
  {
   "cell_type": "code",
   "execution_count": 12,
   "metadata": {},
   "outputs": [
    {
     "data": {
      "text/plain": [
       "16695334890"
      ]
     },
     "execution_count": 12,
     "metadata": {},
     "output_type": "execute_result"
    }
   ],
   "source": [
    "substringDivisibility()\n",
    "# should return 16695334890"
   ]
  },
  {
   "cell_type": "markdown",
   "metadata": {},
   "source": [
    "# Problem 44: Pentagon numbers\n",
    "Pentagonal numbers are generated by the formula, $P_n=n(3n−1)/2$. The first ten pentagonal numbers are:\n",
    "\n",
    "$1, 5, 12, 22, 35, 51, 70, 92, 117, 145, ...$\n",
    "\n",
    "It can be seen that $P_4 + P_7 = 22 + 70 = 92 = P_8$. However, their difference, $70 − 22 = 48$, is not pentagonal.\n",
    "\n",
    "Find the pair of pentagonal numbers, $P_j$ and $P_k$, for which their sum and difference are pentagonal and $D = |Pk − Pj|$ is minimised; what is the value of $D$?"
   ]
  },
  {
   "cell_type": "code",
   "execution_count": 13,
   "metadata": {},
   "outputs": [],
   "source": [
    "import itertools"
   ]
  },
  {
   "cell_type": "code",
   "execution_count": 14,
   "metadata": {},
   "outputs": [],
   "source": [
    "def P(n):\n",
    "    # return nth pentagonal number\n",
    "    return n * (3*n - 1) // 2"
   ]
  },
  {
   "cell_type": "code",
   "execution_count": 15,
   "metadata": {},
   "outputs": [],
   "source": [
    "def pentagon_differences(N):\n",
    "    # return first N pentagonal differences D which satisfy conditions\n",
    "    # of problem 44\n",
    "    Ds = []\n",
    "    \n",
    "    # iterate over x = 5 mod 6\n",
    "    for x in itertools.count(5, 6):\n",
    "        q = (x**2 - 1) // 12\n",
    "        \n",
    "        # iterate over factors of q\n",
    "        root_q = int(q**0.5)\n",
    "        for n in range(2, root_q + 1):\n",
    "            if q%n != 0:\n",
    "                continue\n",
    "                \n",
    "            # check condition 1    \n",
    "            large_factor = q // n\n",
    "            s = (large_factor + 1) / 3\n",
    "            condition_1 = ((s - n) % 2 == 0) and (s > n)\n",
    "            if not condition_1:\n",
    "                continue\n",
    "            \n",
    "            # check condition 2\n",
    "            b_discriminant = 1 + 18*(s**2 + n**2) - 12*s\n",
    "            root_disc = b_discriminant**0.5\n",
    "            condition_2 = (root_disc%6 == 5)\n",
    "            if not condition_2:\n",
    "                continue\n",
    "            \n",
    "            # calculate a, D and related pentagonal numbers\n",
    "            a = (1 + x) // 6\n",
    "            D = P(a)\n",
    "            Ds += [D]\n",
    "            b = int((1 + root_disc) / 6)\n",
    "            k = int((s - n) / 2)\n",
    "            # uncomment to print related pentagonal numbers\n",
    "            #print('D = %s' % D)\n",
    "            #print('[k = %s, n = %s, a = %s, b = %s, n mod 6 = %s,' \\\n",
    "            #      % (k, n, a, b, n%6))\n",
    "            #print(' P_k = %s, P_(k+n) = %s, P_b = %s]\\n' \\\n",
    "            #      % (P(k), P(k+n), P(b)))\n",
    "            break\n",
    "            \n",
    "        if len(Ds) == N:\n",
    "            break\n",
    "            \n",
    "    return Ds"
   ]
  },
  {
   "cell_type": "code",
   "execution_count": 16,
   "metadata": {},
   "outputs": [
    {
     "data": {
      "text/plain": [
       "5482660"
      ]
     },
     "execution_count": 16,
     "metadata": {},
     "output_type": "execute_result"
    }
   ],
   "source": [
    "pentagon_differences(1)[0]\n",
    "# should return 5482660"
   ]
  },
  {
   "cell_type": "markdown",
   "metadata": {},
   "source": [
    "# Problem 45: Triangular, pentagonal, and hexagonal\n",
    "\n",
    "Triangle, pentagonal, and hexagonal numbers are generated by the following formulae:\n",
    "\n",
    "Triangle $T_n=n(n+1)/2$\n",
    "\n",
    "$1, 3, 6, 10, 15, ...$\n",
    "\n",
    "Pentagonal $P_n=n(3n−1)/2$\n",
    "\n",
    "$1, 5, 12, 22, 35, ...$\n",
    "\n",
    "Hexagonal $H_n=n(2n−1)$\n",
    "\n",
    "$1, 6, 15, 28, 45, ...$\n",
    "\n",
    "It can be verified that $T_{285} = P_{165} = H_{143} = 40755$.\n",
    "\n",
    "Find the next triangle number that is also pentagonal and hexagonal."
   ]
  },
  {
   "cell_type": "code",
   "execution_count": 17,
   "metadata": {},
   "outputs": [],
   "source": [
    "def triPentaHexa(start, max_iter=10**7):\n",
    "    # return first triangle number >= start \n",
    "    # that is also pentagonal and hexagonal\n",
    "    start_h = (1 + (8*start + 1)**0.5) / 4\n",
    "    if start_h.is_integer():\n",
    "        start_h = int(start_h)\n",
    "    else:\n",
    "        start_h = int(start_h) + 1\n",
    "        \n",
    "    for h in range(start_h, max_iter):\n",
    "        H = h * (2*h - 1)\n",
    "        is_P = ((1 + (24*H + 1)**0.5) / 6).is_integer()\n",
    "        if is_P:\n",
    "            is_T = ((1 + (8*H + 1)**0.5) / 4).is_integer()\n",
    "            if is_T:\n",
    "                return H\n",
    "        h += 1\n",
    "    else:\n",
    "        print('No tri-penta-hexa numbers found in range')\n",
    "        return"
   ]
  },
  {
   "cell_type": "code",
   "execution_count": 18,
   "metadata": {},
   "outputs": [
    {
     "data": {
      "text/plain": [
       "1533776805"
      ]
     },
     "execution_count": 18,
     "metadata": {},
     "output_type": "execute_result"
    }
   ],
   "source": [
    "triPentaHexa(40756)\n",
    "# should return 1533776805"
   ]
  }
 ],
 "metadata": {
  "kernelspec": {
   "display_name": "Python 3",
   "language": "python",
   "name": "python3"
  },
  "language_info": {
   "codemirror_mode": {
    "name": "ipython",
    "version": 3
   },
   "file_extension": ".py",
   "mimetype": "text/x-python",
   "name": "python",
   "nbconvert_exporter": "python",
   "pygments_lexer": "ipython3",
   "version": "3.7.4"
  }
 },
 "nbformat": 4,
 "nbformat_minor": 2
}
