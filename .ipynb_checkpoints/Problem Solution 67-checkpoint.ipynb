{
 "cells": [
  {
   "cell_type": "markdown",
   "metadata": {},
   "source": [
    "# Problem 67: Maximum path sum II\n",
    "By starting at the top of the triangle below and moving to adjacent numbers on the row below, the maximum total from top to bottom is 23.\n",
    "\n",
    "\n",
    "<center>$\\underline{\\textbf{3}}$</center>\n",
    "\n",
    "<center>$\\underline{\\textbf{7}} \\ 4$</center>\n",
    "\n",
    "<center>$2 \\ \\underline{\\textbf{4}} \\ 6$</center>\n",
    "\n",
    "<center>$8 \\ 5 \\ \\underline{\\textbf{9}} \\ 3$</center>\n",
    "\n",
    "That is, 3 + 7 + 4 + 9 = 23.\n",
    "\n",
    "Find the maximum total from top to bottom in data > largeNumTriangle.txt, a 15K text file containing a triangle with one-hundred rows.\n",
    "\n",
    "[solution here is same as the solution for problem 18]"
   ]
  },
  {
   "cell_type": "code",
   "execution_count": 1,
   "metadata": {},
   "outputs": [],
   "source": [
    "import numpy as np"
   ]
  },
  {
   "cell_type": "code",
   "execution_count": 2,
   "metadata": {},
   "outputs": [],
   "source": [
    "# load numTriangle\n",
    "from pathlib import Path\n",
    "triangleFile = Path('data') / 'largeNumTriangle.txt'\n",
    "arr = np.genfromtxt(triangleFile, delimiter='\\t', dtype=str)\n",
    "largeNumTriangle = [[int(s) for s in l] for l in [nums.split(' ') for nums in arr]]"
   ]
  },
  {
   "cell_type": "code",
   "execution_count": 3,
   "metadata": {},
   "outputs": [],
   "source": [
    "def maximumPathSumI(triangle):\n",
    "    # max sum of adjacent numbers from top to bottom in triangle\n",
    "    height = len(triangle)\n",
    "    if (height==0): return 0\n",
    "    if (height==1): return triangle[0][0]\n",
    "    max_paths = [[0]*len(row) for row in triangle]\n",
    "    max_paths[0][0] = triangle[0][0]\n",
    "    for i in range(1, height):\n",
    "        for j in range(i+1):\n",
    "            (left, right) = (max(0,j-1), min(i,j+1))\n",
    "            best_prev = max(max_paths[i-1][left:right])\n",
    "            max_paths[i][j] = triangle[i][j] + best_prev\n",
    "    return max(max_paths[-1])"
   ]
  },
  {
   "cell_type": "code",
   "execution_count": 4,
   "metadata": {},
   "outputs": [
    {
     "data": {
      "text/plain": [
       "7273"
      ]
     },
     "execution_count": 4,
     "metadata": {},
     "output_type": "execute_result"
    }
   ],
   "source": [
    "maximumPathSumI(largeNumTriangle)\n",
    "# should return 7273"
   ]
  }
 ],
 "metadata": {
  "kernelspec": {
   "display_name": "Python 3",
   "language": "python",
   "name": "python3"
  },
  "language_info": {
   "codemirror_mode": {
    "name": "ipython",
    "version": 3
   },
   "file_extension": ".py",
   "mimetype": "text/x-python",
   "name": "python",
   "nbconvert_exporter": "python",
   "pygments_lexer": "ipython3",
   "version": "3.7.4"
  }
 },
 "nbformat": 4,
 "nbformat_minor": 2
}
