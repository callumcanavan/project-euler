{
 "cells": [
  {
   "cell_type": "markdown",
   "metadata": {},
   "source": [
    "# Problem 21: Amicable numbers\n",
    "\n",
    "Let $d(n)$ be defined as the sum of proper divisors of $n$ (numbers less than $n$ which divide evenly into $n$).\n",
    "\n",
    "If $d(a)=b$ and $d(b)=a$, where $a≠b$, then $a$ and $b$ are an amicable pair and each of a and b are called amicable numbers.\n",
    "\n",
    "For example, the proper divisors of 220 are 1, 2, 4, 5, 10, 11, 20, 22, 44, 55 and 110; therefore $d(220)=284$. The proper divisors of 284 are 1, 2, 4, 71 and 142; so $d(284)=220$.\n",
    "\n",
    "Evaluate the sum of all the amicable numbers under $\\texttt{limit}$."
   ]
  },
  {
   "cell_type": "code",
   "execution_count": 1,
   "metadata": {},
   "outputs": [],
   "source": [
    "def sumDivisors(N):\n",
    "    # sum of proper divisors of N\n",
    "    if (N <= 1): return 0\n",
    "    tot = 1\n",
    "    root = N**0.5\n",
    "    for i in range(2, int(root)+1):\n",
    "        if (N%i == 0):\n",
    "            tot += i + (N//i)\n",
    "    if root.is_integer():\n",
    "        tot -= int(root)\n",
    "    return tot"
   ]
  },
  {
   "cell_type": "code",
   "execution_count": 2,
   "metadata": {},
   "outputs": [],
   "source": [
    "def sumAmicableNum(limit):\n",
    "    # sum of all amicable numbers under limit\n",
    "    checked = [False]*limit\n",
    "    amicable_sum = 0\n",
    "    for n in range(1, limit):\n",
    "        if not checked[n]:\n",
    "            d_n = sumDivisors(n)\n",
    "        while (n < limit) and (not checked[n]):\n",
    "            checked[n] = True\n",
    "            d_of_dn = sumDivisors(d_n)\n",
    "            if (n == d_of_dn) and (n != d_n):\n",
    "                if (d_n < limit):\n",
    "                    checked[d_n] = True\n",
    "                    amicable_sum += n + d_n\n",
    "                else:\n",
    "                    amicable_sum += n\n",
    "                break\n",
    "            n = d_n\n",
    "            d_n = d_of_dn\n",
    "    return amicable_sum"
   ]
  },
  {
   "cell_type": "code",
   "execution_count": 3,
   "metadata": {},
   "outputs": [
    {
     "data": {
      "text/plain": [
       "31626"
      ]
     },
     "execution_count": 3,
     "metadata": {},
     "output_type": "execute_result"
    }
   ],
   "source": [
    "sumAmicableNum(10000)\n",
    "# should return 31626"
   ]
  },
  {
   "cell_type": "markdown",
   "metadata": {},
   "source": [
    "# Problem 22: Names scores\n",
    "\n",
    "Using names.txt, an array containing over five-thousand first names (found in the data folder), begin by sorting it into alphabetical order. Then working out the alphabetical value for each name, multiply this value by its alphabetical position in the list to obtain a name score.\n",
    "\n",
    "For example, when the list is sorted into alphabetical order, COLIN, which is worth 3 + 15 + 12 + 9 + 14 = 53, is the 938th name in the list. So, COLIN would obtain a score of 938 × 53 = 49714.\n",
    "\n",
    "What is the total of all the name scores in the file?"
   ]
  },
  {
   "cell_type": "code",
   "execution_count": 4,
   "metadata": {},
   "outputs": [],
   "source": [
    "# load names\n",
    "import numpy as np\n",
    "from pathlib import Path\n",
    "namesFile = Path('data') / 'names.txt'\n",
    "names = np.loadtxt(namesFile, delimiter=',', dtype='str')\n",
    "names = [n.replace('\"', '') for n in names]"
   ]
  },
  {
   "cell_type": "code",
   "execution_count": 5,
   "metadata": {},
   "outputs": [],
   "source": [
    "def namesScores(name_list):\n",
    "    # sum of scores (described above) of names in name_list\n",
    "    correction = ord('A') - 1\n",
    "    tot = 0\n",
    "    for i, name in enumerate(sorted(name_list)):\n",
    "        value = sum(ord(c) for c in name) - correction * len(name)\n",
    "        tot += value * (i+1)\n",
    "    return tot"
   ]
  },
  {
   "cell_type": "code",
   "execution_count": 6,
   "metadata": {},
   "outputs": [
    {
     "data": {
      "text/plain": [
       "871198282"
      ]
     },
     "execution_count": 6,
     "metadata": {},
     "output_type": "execute_result"
    }
   ],
   "source": [
    "namesScores(names)\n",
    "# should return 871198282"
   ]
  },
  {
   "cell_type": "markdown",
   "metadata": {},
   "source": [
    "# Problem 23: Non-abundant sums\n",
    "\n",
    "A perfect number is a number for which the sum of its proper divisors is exactly equal to the number. For example, the sum of the proper divisors of 28 would be 1 + 2 + 4 + 7 + 14 = 28, which means that 28 is a perfect number.\n",
    "\n",
    "A number $n$ is called deficient if the sum of its proper divisors is less than $n$ and it is called abundant if this sum exceeds $n$.\n",
    "\n",
    "As 12 is the smallest abundant number, 1 + 2 + 3 + 4 + 6 = 16, the smallest number that can be written as the sum of two abundant numbers is 24. By mathematical analysis, it can be shown that all integers greater than 28123 can be written as the sum of two abundant numbers. However, this upper limit cannot be reduced any further by analysis even though it is known that the greatest number that cannot be expressed as the sum of two abundant numbers is less than this limit.\n",
    "\n",
    "Find the sum of all positive integers <= $\\texttt{n}$ which cannot be written as the sum of two abundant numbers."
   ]
  },
  {
   "cell_type": "code",
   "execution_count": 7,
   "metadata": {},
   "outputs": [],
   "source": [
    "def sumDivisors(N):\n",
    "    # sum of proper divisors of N\n",
    "    if (N <= 1): return 0\n",
    "    tot = 1\n",
    "    root = N**0.5\n",
    "    for i in range(2, int(root)+1):\n",
    "        if (N%i == 0):\n",
    "            tot += i + (N//i)\n",
    "    if root.is_integer():\n",
    "        tot -= int(root)\n",
    "    return tot"
   ]
  },
  {
   "cell_type": "code",
   "execution_count": 8,
   "metadata": {},
   "outputs": [],
   "source": [
    "def sumOfNonAbundantNumbers(n):\n",
    "    # sum of numbers below n which can't be expressed as a sum of\n",
    "    # two abundant numbers\n",
    "    abundants = []\n",
    "    sum_of_abs = [False] * (n+1)\n",
    "    tot = 0\n",
    "    for i in range(n+1):\n",
    "        if (sumDivisors(i) > i):\n",
    "            abundants += [i]\n",
    "            for ab in abundants:\n",
    "                if (ab + i) <= n:\n",
    "                    sum_of_abs[ab + i] = True\n",
    "        if not sum_of_abs[i]:\n",
    "            tot += i\n",
    "    return tot"
   ]
  },
  {
   "cell_type": "code",
   "execution_count": 9,
   "metadata": {},
   "outputs": [
    {
     "data": {
      "text/plain": [
       "4179871"
      ]
     },
     "execution_count": 9,
     "metadata": {},
     "output_type": "execute_result"
    }
   ],
   "source": [
    "sumOfNonAbundantNumbers(28123)\n",
    "# should return 4179871"
   ]
  },
  {
   "cell_type": "markdown",
   "metadata": {},
   "source": [
    "# Problem 24: Lexicographic permutations\n",
    "\n",
    "A permutation is an ordered arrangement of objects. For example, 3124 is one possible permutation of the digits 1, 2, 3 and 4. If all of the permutations are listed numerically or alphabetically, we call it lexicographic order. The lexicographic permutations of 0, 1 and 2 are:\n",
    "\n",
    "$012$   $021$   $102$   $120$   $201$   $210$\n",
    "\n",
    "What is the $\\texttt{n}$th lexicographic permutation of the digits 0, 1, 2, 3, 4, 5, 6, 7, 8 and 9?"
   ]
  },
  {
   "cell_type": "code",
   "execution_count": 10,
   "metadata": {},
   "outputs": [],
   "source": [
    "from math import factorial"
   ]
  },
  {
   "cell_type": "code",
   "execution_count": 11,
   "metadata": {},
   "outputs": [],
   "source": [
    "def lexicographicPermutations(n):\n",
    "    # nth (starting at 0) permutation of digits 0-9\n",
    "    num_digits = 10\n",
    "    ordered_digits = list(str(d) for d in range(num_digits))\n",
    "    perm = ''\n",
    "    f = factorial(num_digits-1)\n",
    "    for i in reversed(range(num_digits)):\n",
    "        digit = ordered_digits[n // f]\n",
    "        perm += digit\n",
    "        ordered_digits.remove(digit)\n",
    "        n %= f\n",
    "        f //= max(i, 1)\n",
    "    return perm"
   ]
  },
  {
   "cell_type": "code",
   "execution_count": 12,
   "metadata": {},
   "outputs": [
    {
     "data": {
      "text/plain": [
       "'2783915460'"
      ]
     },
     "execution_count": 12,
     "metadata": {},
     "output_type": "execute_result"
    }
   ],
   "source": [
    "lexicographicPermutations(999999)\n",
    "# should return '2783915460'"
   ]
  },
  {
   "cell_type": "markdown",
   "metadata": {},
   "source": [
    "# Problem 25: 1000-digit Fibonacci number\n",
    "\n",
    "The Fibonacci sequence is defined by the recurrence relation:\n",
    "\n",
    "$F_n = F_{n−1} + F_{n−2}$, where $F_1 = 1$ and $F_2 = 1$.\n",
    "Hence the first 12 terms will be:\n",
    "\n",
    "$F_1 = 1$,\n",
    "$F_2 = 1$,\n",
    "$F_3 = 2$,\n",
    "$F_4 = 3$,\n",
    "$F_5 = 5$,\n",
    "$F_6 = 8$,\n",
    "$F_7 = 13$,\n",
    "$F_8 = 21$,\n",
    "$F_9 = 34$,\n",
    "$F_{10} = 55$,\n",
    "$F_{11} = 89$,\n",
    "$F_{12} = 144$\n",
    "\n",
    "The 12th term, $F_{12}$, is the first term to contain three digits.\n",
    "\n",
    "What is the index of the first term in the Fibonacci sequence to contain $\\texttt{n}$ digits?"
   ]
  },
  {
   "cell_type": "code",
   "execution_count": 13,
   "metadata": {},
   "outputs": [],
   "source": [
    "def fibMatMult(a, b):\n",
    "    # product of two symmetric matrices, a and b, which are powers\n",
    "    # of the Fibonacci recurrence matrix\n",
    "    a00, a01, a11 = a\n",
    "    b00, b01, b11 = b\n",
    "    c00 = a00*b00 + a01*b01\n",
    "    c01 = a00*b01 + a01*b11\n",
    "    c11 = a01*b01 + a11*b11\n",
    "    return (c00, c01, c11)"
   ]
  },
  {
   "cell_type": "code",
   "execution_count": 14,
   "metadata": {},
   "outputs": [],
   "source": [
    "def digitFibonacci(n):\n",
    "    # index of first term in Fibonacci sequence to contain n digits\n",
    "    target = 10**(n-1)\n",
    "    last_mat = (1, 1, 0)\n",
    "    mats = [last_mat]\n",
    "    while (last_mat[1] < target):\n",
    "        last_mat = fibMatMult(last_mat, last_mat)\n",
    "        mats += [last_mat] if (last_mat[1] < target) else []\n",
    "    index = 2**(len(mats)-1)\n",
    "    cum_mat = mats.pop(-1)\n",
    "    increment_mat = mats[-1]\n",
    "    while mats:\n",
    "        next_mat = fibMatMult(cum_mat, increment_mat)\n",
    "        if (next_mat[1] < target):\n",
    "            index += 2**(len(mats) - 1)\n",
    "            cum_mat = next_mat\n",
    "        else:\n",
    "            del mats[-1]\n",
    "            if (next_mat[1] == target) or (len(mats) == 0):\n",
    "                index += len(mats) + 1\n",
    "                break\n",
    "            else:\n",
    "                increment_mat = mats[-1]\n",
    "    return index"
   ]
  },
  {
   "cell_type": "code",
   "execution_count": 15,
   "metadata": {},
   "outputs": [
    {
     "data": {
      "text/plain": [
       "4782"
      ]
     },
     "execution_count": 15,
     "metadata": {},
     "output_type": "execute_result"
    }
   ],
   "source": [
    "digitFibonacci(1000)\n",
    "# should return 4782"
   ]
  }
 ],
 "metadata": {
  "kernelspec": {
   "display_name": "Python 3",
   "language": "python",
   "name": "python3"
  },
  "language_info": {
   "codemirror_mode": {
    "name": "ipython",
    "version": 3
   },
   "file_extension": ".py",
   "mimetype": "text/x-python",
   "name": "python",
   "nbconvert_exporter": "python",
   "pygments_lexer": "ipython3",
   "version": "3.7.4"
  }
 },
 "nbformat": 4,
 "nbformat_minor": 2
}
