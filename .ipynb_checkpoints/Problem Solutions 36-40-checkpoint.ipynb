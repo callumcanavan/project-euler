{
 "cells": [
  {
   "cell_type": "markdown",
   "metadata": {},
   "source": [
    "# Problem 36: Double-base palindromes\n",
    "\n",
    "The decimal number, 585 = 10010010012 (binary), is palindromic in both bases.\n",
    "\n",
    "Find the sum of all numbers, less than $\\texttt{n}$, whereas 1000 <= $\\texttt{n}$ <= 1000000, which are palindromic in base 10 and base 2.\n",
    "\n",
    "(Please note that the palindromic number, in either base, may not include leading zeros.)"
   ]
  },
  {
   "cell_type": "code",
   "execution_count": 1,
   "metadata": {},
   "outputs": [],
   "source": [
    "def sequences(seq_len, elements):\n",
    "    # generator of all sequences length seq_len consisting only of\n",
    "    # items in elements (will not be unique if items not unique)\n",
    "    if seq_len == 0 or len(elements) <= 1:\n",
    "        yield elements[0:1] * seq_len\n",
    "    else:\n",
    "        for el in elements:\n",
    "            for seq in sequences(seq_len-1, elements):\n",
    "                yield el + seq"
   ]
  },
  {
   "cell_type": "code",
   "execution_count": 2,
   "metadata": {},
   "outputs": [],
   "source": [
    "def palindromes(pal_len, elements):\n",
    "    # generator of all palindrome sequences length pal_len consisting\n",
    "    # only of items in elements (will not be unique if items not unique)\n",
    "    for seq in sequences((pal_len+1)//2, elements):\n",
    "        yield seq[pal_len%2:][::-1] + seq"
   ]
  },
  {
   "cell_type": "code",
   "execution_count": 3,
   "metadata": {},
   "outputs": [],
   "source": [
    "def bodyPalindromes(pal_len, body_elements, univ_elements):\n",
    "    # generator of all palindrome sequences length pal_len consisting\n",
    "    # only of items in body_elements+univ_elements, with no items\n",
    "    # in body elements at the ends (will not be unique if items not unique)\n",
    "    if pal_len <= 1:\n",
    "        for pal in palindromes(pal_len, univ_elements):\n",
    "            yield pal\n",
    "    else:\n",
    "        for i in range(len(univ_elements)):\n",
    "            el = univ_elements[i:i+1]\n",
    "            for pal in palindromes(pal_len-2, body_elements+univ_elements):\n",
    "                yield el + pal + el"
   ]
  },
  {
   "cell_type": "code",
   "execution_count": 4,
   "metadata": {},
   "outputs": [],
   "source": [
    "def doubleBasePalindromes(n):\n",
    "    # sum of all numbers below n which are palindromic in both\n",
    "    # base 10 and base 2\n",
    "    body_digits = '02468'\n",
    "    univ_digits = '13579'\n",
    "    max_len = len(str(n-1))\n",
    "    tot = 0\n",
    "    for pal_len in range(1,max_len+1):\n",
    "        for dec in bodyPalindromes(pal_len, body_digits, univ_digits):\n",
    "            if int(dec) >= n:\n",
    "                continue\n",
    "            binary = bin(int(dec))[2:]\n",
    "            is_pal = True\n",
    "            for i in range(len(binary)//2):\n",
    "                if binary[i] != binary[-i-1]:\n",
    "                    is_pal = False\n",
    "                    break\n",
    "            tot += int(dec) if is_pal else 0\n",
    "    return tot"
   ]
  },
  {
   "cell_type": "code",
   "execution_count": 5,
   "metadata": {},
   "outputs": [
    {
     "data": {
      "text/plain": [
       "872187"
      ]
     },
     "execution_count": 5,
     "metadata": {},
     "output_type": "execute_result"
    }
   ],
   "source": [
    "doubleBasePalindromes(1000000)\n",
    "# should return 872187"
   ]
  }
 ],
 "metadata": {
  "kernelspec": {
   "display_name": "Python 3",
   "language": "python",
   "name": "python3"
  },
  "language_info": {
   "codemirror_mode": {
    "name": "ipython",
    "version": 3
   },
   "file_extension": ".py",
   "mimetype": "text/x-python",
   "name": "python",
   "nbconvert_exporter": "python",
   "pygments_lexer": "ipython3",
   "version": "3.7.4"
  }
 },
 "nbformat": 4,
 "nbformat_minor": 2
}
