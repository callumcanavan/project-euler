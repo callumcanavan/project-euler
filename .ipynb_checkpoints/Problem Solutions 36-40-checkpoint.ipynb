{
 "cells": [
  {
   "cell_type": "markdown",
   "metadata": {},
   "source": [
    "# Problem 36: Double-base palindromes\n",
    "\n",
    "The decimal number, $585 = 1001001001_2$ (binary), is palindromic in both bases.\n",
    "\n",
    "Find the sum of all numbers, less than $\\texttt{n}$, whereas 1000 <= $\\texttt{n}$ <= 1000000, which are palindromic in base 10 and base 2.\n",
    "\n",
    "(Please note that the palindromic number, in either base, may not include leading zeros.)"
   ]
  },
  {
   "cell_type": "code",
   "execution_count": 1,
   "metadata": {},
   "outputs": [],
   "source": [
    "def sequences(seq_len, elements):\n",
    "    # generator of all sequences length seq_len consisting only of\n",
    "    # items in elements (will not be unique if items not unique)\n",
    "    if seq_len == 0 or len(elements) <= 1:\n",
    "        yield elements[0:1] * seq_len\n",
    "    else:\n",
    "        for el in elements:\n",
    "            for seq in sequences(seq_len-1, elements):\n",
    "                yield el + seq"
   ]
  },
  {
   "cell_type": "code",
   "execution_count": 2,
   "metadata": {},
   "outputs": [],
   "source": [
    "def palindromes(pal_len, elements):\n",
    "    # generator of all palindrome sequences length pal_len consisting\n",
    "    # only of items in elements (will not be unique if items not unique)\n",
    "    for seq in sequences((pal_len+1)//2, elements):\n",
    "        yield seq[pal_len%2:][::-1] + seq"
   ]
  },
  {
   "cell_type": "code",
   "execution_count": 3,
   "metadata": {},
   "outputs": [],
   "source": [
    "def bodyPalindromes(pal_len, body_elements, univ_elements):\n",
    "    # generator of all palindrome sequences length pal_len consisting\n",
    "    # only of items in body_elements+univ_elements, with no items\n",
    "    # in body elements at the ends (will not be unique if items not unique)\n",
    "    if pal_len <= 1:\n",
    "        for pal in palindromes(pal_len, univ_elements):\n",
    "            yield pal\n",
    "    else:\n",
    "        for i in range(len(univ_elements)):\n",
    "            el = univ_elements[i:i+1]\n",
    "            for pal in palindromes(pal_len-2, body_elements+univ_elements):\n",
    "                yield el + pal + el"
   ]
  },
  {
   "cell_type": "code",
   "execution_count": 4,
   "metadata": {},
   "outputs": [],
   "source": [
    "def doubleBasePalindromes(n):\n",
    "    # sum of all numbers below n which are palindromic in both\n",
    "    # base 10 and base 2\n",
    "    body_digits = '02468'\n",
    "    univ_digits = '13579'\n",
    "    max_len = len(str(n-1))\n",
    "    tot = 0\n",
    "    for pal_len in range(1,max_len+1):\n",
    "        for dec in bodyPalindromes(pal_len, body_digits, univ_digits):\n",
    "            if int(dec) >= n:\n",
    "                continue\n",
    "            binary = bin(int(dec))[2:]\n",
    "            is_pal = True\n",
    "            for i in range(len(binary)//2):\n",
    "                if binary[i] != binary[-i-1]:\n",
    "                    is_pal = False\n",
    "                    break\n",
    "            tot += int(dec) if is_pal else 0\n",
    "    return tot"
   ]
  },
  {
   "cell_type": "code",
   "execution_count": 5,
   "metadata": {},
   "outputs": [
    {
     "data": {
      "text/plain": [
       "872187"
      ]
     },
     "execution_count": 5,
     "metadata": {},
     "output_type": "execute_result"
    }
   ],
   "source": [
    "doubleBasePalindromes(1000000)\n",
    "# should return 872187"
   ]
  },
  {
   "cell_type": "markdown",
   "metadata": {},
   "source": [
    "# Problem 37: Truncatable primes\n",
    "The number 3797 has an interesting property. Being prime itself, it is possible to continuously remove digits from left to right, and remain prime at each stage: 3797, 797, 97, and 7. Similarly we can work from right to left: 3797, 379, 37, and 3.\n",
    "\n",
    "Find the sum of the only eleven primes that are both truncatable from left to right and right to left.\n",
    "\n",
    "NOTE: 2, 3, 5, and 7 are not considered to be truncatable primes."
   ]
  },
  {
   "cell_type": "code",
   "execution_count": 6,
   "metadata": {},
   "outputs": [],
   "source": [
    "def greatestCommonDivisor(a, b):\n",
    "    # greatest common divisor of a and b\n",
    "    r = a % b\n",
    "    while r:\n",
    "        a = b\n",
    "        b = r\n",
    "        r = a % b\n",
    "    return b"
   ]
  },
  {
   "cell_type": "code",
   "execution_count": 7,
   "metadata": {},
   "outputs": [],
   "source": [
    "def isPrime(n):\n",
    "    # True if n is prime, else False\n",
    "    if n < 2: return False\n",
    "    root = int(n**0.5)\n",
    "    for i in range(2, root+1):\n",
    "        if n % i == 0:\n",
    "            return False\n",
    "    return True"
   ]
  },
  {
   "cell_type": "code",
   "execution_count": 8,
   "metadata": {},
   "outputs": [],
   "source": [
    "def truncatablePrimes():\n",
    "    # sum of all integers which are both left- and right-truncatable\n",
    "    # primes in base 10\n",
    "    base = 10\n",
    "    single_digit_primes = []\n",
    "    addons = []\n",
    "    for i in range(1, base):\n",
    "        if greatestCommonDivisor(i, base) == 1:\n",
    "            addons += [i]\n",
    "        if isPrime(i):\n",
    "            single_digit_primes += [i]\n",
    "    tot = 0\n",
    "    r_trunc_primes = []\n",
    "    l_trunc_primes = []\n",
    "    for p in single_digit_primes:\n",
    "        for a in addons:\n",
    "            rn = p * base + a\n",
    "            if isPrime(rn):\n",
    "                r_trunc_primes += [rn]\n",
    "                if isPrime(a):\n",
    "                    tot += rn\n",
    "            ln = a * base + p\n",
    "            if isPrime(ln):\n",
    "                l_trunc_primes += [ln]\n",
    "    power = 2\n",
    "    while l_trunc_primes != [] or r_trunc_primes != []:\n",
    "        new_r_trunc_primes = []\n",
    "        new_l_trunc_primes = []\n",
    "        for a in addons:\n",
    "            for r_prime in r_trunc_primes:\n",
    "                rn = base * r_prime + a\n",
    "                if isPrime(rn):\n",
    "                    new_r_trunc_primes += [rn]\n",
    "                    if rn % (base**power) in l_trunc_primes:\n",
    "                        tot += rn\n",
    "            for l_prime in l_trunc_primes:\n",
    "                ln = a * (base**power) + l_prime\n",
    "                if isPrime(ln):\n",
    "                    new_l_trunc_primes += [ln]\n",
    "        r_trunc_primes = new_r_trunc_primes\n",
    "        l_trunc_primes = new_l_trunc_primes\n",
    "        power += 1\n",
    "    return tot"
   ]
  },
  {
   "cell_type": "code",
   "execution_count": 9,
   "metadata": {},
   "outputs": [
    {
     "data": {
      "text/plain": [
       "748317"
      ]
     },
     "execution_count": 9,
     "metadata": {},
     "output_type": "execute_result"
    }
   ],
   "source": [
    "truncatablePrimes()\n",
    "# should return 748317"
   ]
  },
  {
   "cell_type": "markdown",
   "metadata": {},
   "source": [
    "# Problem 38: Pandigital multiples\n",
    "\n",
    "Take the number 192 and multiply it by each of 1, 2, and 3:\n",
    "\n",
    "192 × 1 = 192\n",
    "192 × 2 = 384\n",
    "192 × 3 = 576\n",
    "By concatenating each product we get the 1 to 9 pandigital, 192384576. We will call 192384576 the concatenated product of 192 and (1,2,3)\n",
    "\n",
    "The same can be achieved by starting with 9 and multiplying by 1, 2, 3, 4, and 5, giving the pandigital, 918273645, which is the concatenated product of 9 and (1,2,3,4,5).\n",
    "\n",
    "What is the largest 1 to 9 pandigital 9-digit number that can be formed as the concatenated product of an integer with (1,2, ... , n) where n > 1?"
   ]
  },
  {
   "cell_type": "code",
   "execution_count": 10,
   "metadata": {},
   "outputs": [],
   "source": [
    "import string"
   ]
  },
  {
   "cell_type": "code",
   "execution_count": 11,
   "metadata": {},
   "outputs": [],
   "source": [
    "def descendingSubsets(elements, max_size, already_sorted=False, trunc_switch=False):\n",
    "    # generator of subsets of elements of maximum size max_size\n",
    "    # in descending order (if trunc_switch is set to True, \n",
    "    # subsets which are right-truncated versions of another subset\n",
    "    # are considered to be larger than that subset)\n",
    "    if max_size == 0:\n",
    "        return\n",
    "    else:\n",
    "        if not already_sorted:\n",
    "            if isinstance(elements, str):\n",
    "                elements = ''.join(sorted(elements))\n",
    "            else:\n",
    "                elements = sorted(elements)\n",
    "        for i in reversed(range(len(elements))):\n",
    "            el = elements[i:i+1]\n",
    "            without_el = elements[:i] + elements[i+1:]\n",
    "            if trunc_switch:\n",
    "                yield el\n",
    "            for perm in descendingSubsets(without_el, max_size-1, True, trunc_switch):\n",
    "                yield el + perm\n",
    "            if not trunc_switch:\n",
    "                yield el"
   ]
  },
  {
   "cell_type": "code",
   "execution_count": 12,
   "metadata": {},
   "outputs": [],
   "source": [
    "all_digits = string.digits + string.ascii_lowercase"
   ]
  },
  {
   "cell_type": "code",
   "execution_count": 13,
   "metadata": {},
   "outputs": [],
   "source": [
    "def toInt(num_str, base):\n",
    "    # int value of num_str (when given in base base using first\n",
    "    # base characters from all_digits)\n",
    "    if base > len(all_digits):\n",
    "        print('Base too large, must be <= %s' % (len(all_digits)))\n",
    "        return\n",
    "    digits = all_digits[:base]\n",
    "    num_int = 0\n",
    "    for i, d in enumerate(reversed(num_str)):\n",
    "        num_int += digits.index(d) * base**i\n",
    "    return num_int"
   ]
  },
  {
   "cell_type": "code",
   "execution_count": 14,
   "metadata": {},
   "outputs": [],
   "source": [
    "def toStr(num_int, base):\n",
    "    # string value of integer num_int converted to base base using\n",
    "    # first base characters of all_digits\n",
    "    if base > len(all_digits):\n",
    "        print('Base too large, must be <= %s' % (len(all_digits)))\n",
    "        return\n",
    "    digits = all_digits[:base]\n",
    "    num_str = ''\n",
    "    while num_int:\n",
    "        d = num_int % base\n",
    "        num_str = digits[d] + num_str\n",
    "        num_int = (num_int - d) // base\n",
    "    return num_str"
   ]
  },
  {
   "cell_type": "code",
   "execution_count": 15,
   "metadata": {},
   "outputs": [],
   "source": [
    "def pandigitalMultiples(base):\n",
    "    # highest pandigital number (in base base) which can be formed\n",
    "    # by concatenating the products of an integer with (1,2,...,n)\n",
    "    # where n > 1\n",
    "    if base > len(all_digits):\n",
    "        print('Base too large, must be <= %s' % (len(all_digits)))\n",
    "    digits = all_digits[1:base]\n",
    "    max_digits = (base - 1) // 2\n",
    "    max_pandigital = ''\n",
    "    for start_num in descendingSubsets(digits, max_digits, trunc_switch=True):\n",
    "        if start_num < max_pandigital[:len(start_num)]:\n",
    "            break\n",
    "        rem_digits = digits\n",
    "        for d in start_num:\n",
    "            rem_digits = rem_digits.replace(d, '')\n",
    "        mult = 2\n",
    "        potential_pandigital = True\n",
    "        while rem_digits and potential_pandigital:\n",
    "            product = mult * toInt(start_num, base)\n",
    "            for d in toStr(product, base):\n",
    "                if d in rem_digits:\n",
    "                    rem_digits = rem_digits.replace(d, '')\n",
    "                else:\n",
    "                    potential_pandigital = False\n",
    "                    break\n",
    "            mult += 1\n",
    "        if potential_pandigital:\n",
    "            pandigital = start_num\n",
    "            for m in range(2, mult):\n",
    "                pandigital += toStr(m * toInt(start_num, base), base)\n",
    "            if pandigital > max_pandigital:\n",
    "                max_pandigital = pandigital\n",
    "    else:\n",
    "        print('No pandigital numbers found')\n",
    "        return\n",
    "    return max_pandigital"
   ]
  },
  {
   "cell_type": "code",
   "execution_count": 16,
   "metadata": {},
   "outputs": [
    {
     "data": {
      "text/plain": [
       "'932718654'"
      ]
     },
     "execution_count": 16,
     "metadata": {},
     "output_type": "execute_result"
    }
   ],
   "source": [
    "pandigitalMultiples(10)\n",
    "# should return '932718654'"
   ]
  },
  {
   "cell_type": "markdown",
   "metadata": {},
   "source": [
    "# Problem 39: Integer right triangles\n",
    "\n",
    "If $p$ is the perimeter of a right angle triangle with integral length sides, $(a,b,c)$, there are exactly three solutions for $p=120$.\n",
    "\n",
    "$(20,48,52), (24,45,51), (30,40,50)$\n",
    "\n",
    "For which value of $p$ less than or equal to $N$ is the number of solutions maximised?"
   ]
  },
  {
   "cell_type": "code",
   "execution_count": 17,
   "metadata": {},
   "outputs": [],
   "source": [
    "import numpy as np"
   ]
  },
  {
   "cell_type": "code",
   "execution_count": 18,
   "metadata": {},
   "outputs": [],
   "source": [
    "def intRightTriangles(N):\n",
    "    # right angled triangle perimeter less than N which has the\n",
    "    # largest number of integer side length solutions\n",
    "    num_triangles = np.zeros(N+1, int)\n",
    "    max_m = int(((1 + 4*N)**0.5 + 1) / 4)\n",
    "    for m in range(2, max_m + 1):\n",
    "        for n in range(1 + m%2, m, 2):\n",
    "            if np.gcd(m, n) == 1:\n",
    "                p = 2*(m**2 + m*n)\n",
    "                num_triangles[p::p] += 1\n",
    "    return np.argmax(num_triangles)"
   ]
  },
  {
   "cell_type": "code",
   "execution_count": 19,
   "metadata": {},
   "outputs": [
    {
     "data": {
      "text/plain": [
       "840"
      ]
     },
     "execution_count": 19,
     "metadata": {},
     "output_type": "execute_result"
    }
   ],
   "source": [
    "intRightTriangles(1000)\n",
    "# should return 840"
   ]
  },
  {
   "cell_type": "markdown",
   "metadata": {},
   "source": [
    "# Problem 40: Champernowne's constant\n",
    "\n",
    "An irrational decimal fraction is created by concatenating the positive integers:\n",
    "\n",
    "$0.123456789101112131415161718192021...$\n",
    "\n",
    "It can be seen that the 12th digit of the fractional part is 1.\n",
    "\n",
    "If $d_n$ represents the $n$th digit of the fractional part, find the value of the following expression.\n",
    "\n",
    "$d_1 × d_{10} × d_{100} × d_{1000} × d_{10000} × d_{100000} × d_{1000000}$"
   ]
  },
  {
   "cell_type": "code",
   "execution_count": 20,
   "metadata": {},
   "outputs": [],
   "source": [
    "def chapernowneDigit(N):\n",
    "    # Nth significat digit of Champernowne's constant\n",
    "    N -= 1\n",
    "    base = 10\n",
    "    power = 0\n",
    "    digit_count = base - 1\n",
    "    while digit_count <= N:\n",
    "        N -= digit_count\n",
    "        power += 1\n",
    "        digit_count = (power + 1) * (base - 1) * base**power\n",
    "    q, r = divmod(N, power + 1)\n",
    "    num = base**power + q\n",
    "    digit = str(num)[r]\n",
    "    return int(digit)"
   ]
  },
  {
   "cell_type": "code",
   "execution_count": 21,
   "metadata": {},
   "outputs": [],
   "source": [
    "def champernownesConstant(max_power):\n",
    "    # product of all digits at positions 10^n (n = 1,2,...,max_power)\n",
    "    # in Champernowne's constant\n",
    "    base = 10\n",
    "    tot = 1\n",
    "    for power in range(max_power):\n",
    "        tot *= chapernowneDigit(base**power)\n",
    "    return tot"
   ]
  },
  {
   "cell_type": "code",
   "execution_count": 22,
   "metadata": {},
   "outputs": [
    {
     "data": {
      "text/plain": [
       "210"
      ]
     },
     "execution_count": 22,
     "metadata": {},
     "output_type": "execute_result"
    }
   ],
   "source": [
    "champernownesConstant(6)\n",
    "# should return 210"
   ]
  }
 ],
 "metadata": {
  "kernelspec": {
   "display_name": "Python 3",
   "language": "python",
   "name": "python3"
  },
  "language_info": {
   "codemirror_mode": {
    "name": "ipython",
    "version": 3
   },
   "file_extension": ".py",
   "mimetype": "text/x-python",
   "name": "python",
   "nbconvert_exporter": "python",
   "pygments_lexer": "ipython3",
   "version": "3.7.4"
  }
 },
 "nbformat": 4,
 "nbformat_minor": 2
}
