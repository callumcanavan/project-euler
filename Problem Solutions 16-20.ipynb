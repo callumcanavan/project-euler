{
 "cells": [
  {
   "cell_type": "markdown",
   "metadata": {},
   "source": [
    "# Problem 16: Power digit sum\n",
    "215 = 32768 and the sum of its digits is 3 + 2 + 7 + 6 + 8 = 26.\n",
    "\n",
    "What is the sum of the digits of the number $2^{exponent}$?"
   ]
  },
  {
   "cell_type": "code",
   "execution_count": 1,
   "metadata": {},
   "outputs": [],
   "source": [
    "def powerDigitSum(exponent):\n",
    "    return sum([int(c) for c in str(2**exponent)])"
   ]
  },
  {
   "cell_type": "code",
   "execution_count": 2,
   "metadata": {},
   "outputs": [
    {
     "data": {
      "text/plain": [
       "1366"
      ]
     },
     "execution_count": 2,
     "metadata": {},
     "output_type": "execute_result"
    }
   ],
   "source": [
    "powerDigitSum(1000)\n",
    "# should return 1366"
   ]
  },
  {
   "cell_type": "markdown",
   "metadata": {},
   "source": [
    "# Problem 17: Number letter counts\n",
    "If the numbers 1 to 5 are written out in words: one, two, three, four, five, then there are 3 + 3 + 5 + 4 + 4 = 19 letters used in total.\n",
    "\n",
    "If all the numbers from 1 to given $\\texttt{limit}$ inclusive were written out in words, how many letters would be used?\n",
    "\n",
    "NOTE: Do not count spaces or hyphens. For example, 342 (three hundred and forty-two) contains 23 letters and 115 (one hundred and fifteen) contains 20 letters. The use of \"and\" when writing out numbers is in compliance with British usage."
   ]
  },
  {
   "cell_type": "code",
   "execution_count": 3,
   "metadata": {},
   "outputs": [],
   "source": [
    "numerals = ['one', 'two', 'three', 'four', 'five', 'six',\n",
    "            'seven', 'eight', 'nine','ten', 'eleven', 'twelve',\n",
    "            'thirteen', 'fourteen', 'fifteen', 'sixteen',\n",
    "            'seventeen', 'eighteen','nineteen']\n",
    "numerals = [len(i) for i in numerals]\n",
    "\n",
    "tens = ['twenty', 'thirty', 'forty', 'fifty', 'sixty', 'seventy',\n",
    "           'eighty', 'ninety']\n",
    "tens = [len(i) for i in tens]\n",
    "\n",
    "hundred = len('hundred')\n",
    "\n",
    "tripowers = ['thousand', 'million', 'billion', 'trillion']\n",
    "tripowers = [len(i) for i in tripowers]\n",
    "\n",
    "joiner = len('and')"
   ]
  },
  {
   "cell_type": "code",
   "execution_count": 4,
   "metadata": {},
   "outputs": [],
   "source": [
    "def numberLength(number):\n",
    "    # number of letters needed to write number in words\n",
    "    num_str = str(number)\n",
    "    l = len(num_str)\n",
    "    max_power = 3*(len(tripowers)+1) - 1\n",
    "    if l-1 > max_power:\n",
    "        print('Number must be less than 10^%s' % (max_power+1))\n",
    "    tot = 0\n",
    "    for i in range(0, l, 3):\n",
    "        n = int(num_str[-i-3:-i]) if (i>0) else int(num_str[-i-3:])\n",
    "        if n >= 10**2:\n",
    "            h = n//(10**2)\n",
    "            tot += numerals[h-1]\n",
    "            tot += hundred\n",
    "        dec = n%(10**2)\n",
    "        if (dec > 0):\n",
    "            if (n>10**2) or (i==0 and number>10**2):\n",
    "                tot += joiner\n",
    "            if (dec >= 20):\n",
    "                tot += tens[dec//10 - 2]\n",
    "                if (dec%10 > 0):\n",
    "                    tot += numerals[dec%10 - 1]\n",
    "            else:\n",
    "                tot += numerals[dec - 1]\n",
    "        tot += tripowers[i//3 - 1] if (n*i>0) else 0\n",
    "    return tot"
   ]
  },
  {
   "cell_type": "code",
   "execution_count": 5,
   "metadata": {},
   "outputs": [],
   "source": [
    "def numberLetterCounts(limit):\n",
    "    # number of letters needed to write all integers from 1 to limit\n",
    "    return sum(numberLength(i+1) for i in range(limit))"
   ]
  },
  {
   "cell_type": "code",
   "execution_count": 6,
   "metadata": {},
   "outputs": [
    {
     "data": {
      "text/plain": [
       "21124"
      ]
     },
     "execution_count": 6,
     "metadata": {},
     "output_type": "execute_result"
    }
   ],
   "source": [
    "numberLetterCounts(1000)\n",
    "# should return 21124"
   ]
  },
  {
   "cell_type": "markdown",
   "metadata": {},
   "source": [
    "# Problem 18: Maximum path sum I\n",
    "By starting at the top of the triangle below and moving to adjacent numbers on the row below, the maximum total from top to bottom is 23.\n",
    "\n",
    "       3\n",
    "      7 4\n",
    "     2 4 6\n",
    "    8 5 9 3\n",
    "\n",
    "That is, 3 + 7 + 4 + 9 = 23.\n",
    "\n",
    "Find the maximum total from top to bottom of the triangle in data > numTriangle.txt\n",
    "\n",
    "[solution here is same as the solution for problem 67]"
   ]
  },
  {
   "cell_type": "code",
   "execution_count": 7,
   "metadata": {},
   "outputs": [],
   "source": [
    "import numpy as np"
   ]
  },
  {
   "cell_type": "code",
   "execution_count": 8,
   "metadata": {},
   "outputs": [],
   "source": [
    "# load numTriangle\n",
    "from pathlib import Path\n",
    "triangleFile = Path('data') / 'numTriangle.txt'\n",
    "arr = np.genfromtxt(triangleFile, delimiter='\\t', dtype=str)\n",
    "numTriangle = [[int(s) for s in l] for l in [nums.split(' ') for nums in arr]]"
   ]
  },
  {
   "cell_type": "code",
   "execution_count": 9,
   "metadata": {},
   "outputs": [],
   "source": [
    "def maximumPathSumI(triangle):\n",
    "    # max sum of adjacent numbers from top to bottom in triangle\n",
    "    height = len(triangle)\n",
    "    if (height==0): return 0\n",
    "    if (height==1): return triangle[0][0]\n",
    "    max_paths = [[0]*len(row) for row in triangle]\n",
    "    max_paths[0][0] = triangle[0][0]\n",
    "    for i in range(1, height):\n",
    "        for j in range(i+1):\n",
    "            (left, right) = (max(0,j-1), min(i,j+1))\n",
    "            best_prev = max(max_paths[i-1][left:right])\n",
    "            max_paths[i][j] = triangle[i][j] + best_prev\n",
    "    return max(max_paths[-1])"
   ]
  },
  {
   "cell_type": "code",
   "execution_count": 10,
   "metadata": {},
   "outputs": [
    {
     "data": {
      "text/plain": [
       "1074"
      ]
     },
     "execution_count": 10,
     "metadata": {},
     "output_type": "execute_result"
    }
   ],
   "source": [
    "maximumPathSumI(numTriangle)\n",
    "# should return 1074"
   ]
  },
  {
   "cell_type": "markdown",
   "metadata": {},
   "source": [
    "# Problem 19: Counting Sundays\n",
    "\n",
    "You are given the following information, but you may prefer to do some research for yourself.\n",
    "\n",
    "- 1 Jan 1900 was a Monday.\n",
    "\n",
    "- Thirty days has September,\n",
    "    April, June and November.\n",
    "    All the rest have thirty-one,\n",
    "    Saving February alone,\n",
    "    Which has twenty-eight, rain or shine.\n",
    "    And on leap years, twenty-nine.\n",
    "\n",
    "- A leap year occurs on any year evenly divisible by 4, but not on a century unless it is divisible by 400.\n",
    "\n",
    "How many Sundays fell on the first of the month during the twentieth century (1 Jan 1901 to 31 Dec 2000)?"
   ]
  },
  {
   "cell_type": "code",
   "execution_count": 11,
   "metadata": {},
   "outputs": [],
   "source": [
    "week = 7\n",
    "sunday = 6\n",
    "month_lengths = [31, 28, 31, 30, 31, 30, 31, 31, 30, 31, 30, 31]\n",
    "month_mods = [l % week for l in month_lengths]\n",
    "leap_month = 1\n",
    "year_mod = sum(month_mods) % week\n",
    "year0 = 1900"
   ]
  },
  {
   "cell_type": "code",
   "execution_count": 12,
   "metadata": {},
   "outputs": [],
   "source": [
    "def isLeapYear(year):\n",
    "    return (year%400 == 0) or (year%4 == 0 and year%25 != 0)"
   ]
  },
  {
   "cell_type": "code",
   "execution_count": 13,
   "metadata": {},
   "outputs": [],
   "source": [
    "def startDay(year):\n",
    "    diff = year - year0\n",
    "    day = ((diff * year_mod) + ((diff-1) // 4) - ((diff-1) // 100) \\\n",
    "             + ((diff+299) // 400)) % week\n",
    "    return day"
   ]
  },
  {
   "cell_type": "code",
   "execution_count": 14,
   "metadata": {},
   "outputs": [],
   "source": [
    "def countingSundays(start_year, end_year):\n",
    "    # number of Sundays falling on the first of the month from\n",
    "    # 1st Jan, start_year to 31st Dec, end_year\n",
    "    day = startDay(start_year)\n",
    "    n_sundays = 0\n",
    "    for year in range(start_year, end_year+1):\n",
    "        months = month_mods.copy()\n",
    "        if isLeapYear(year):\n",
    "            months[leap_month] += 1\n",
    "        for month in months:\n",
    "            if (day == sunday):\n",
    "                n_sundays += 1\n",
    "            day = (day + month) % week\n",
    "    return n_sundays"
   ]
  },
  {
   "cell_type": "code",
   "execution_count": 15,
   "metadata": {},
   "outputs": [
    {
     "data": {
      "text/plain": [
       "171"
      ]
     },
     "execution_count": 15,
     "metadata": {},
     "output_type": "execute_result"
    }
   ],
   "source": [
    "countingSundays(1901, 2000)\n",
    "# should return 171"
   ]
  },
  {
   "cell_type": "markdown",
   "metadata": {},
   "source": [
    "# Problem 20: Factorial digit sum\n",
    "\n",
    "$n!$ means $n(n − 1)$...3 x 2 x 1\n",
    "\n",
    "For example, 10! = 10 x 9 x ... x 3 x 2 x 1 = 3628800,\n",
    "and the sum of the digits in the number $10!$ is $3 + 6 + 2 + 8 + 8 + 0 + 0 = 27$.\n",
    "\n",
    "Find the sum of the digits in $\\texttt{n}!$"
   ]
  },
  {
   "cell_type": "code",
   "execution_count": 16,
   "metadata": {},
   "outputs": [],
   "source": [
    "def sumFactorialDigits(n):\n",
    "    fact = 1\n",
    "    for i in range(2,n+1):\n",
    "        fact *= i\n",
    "    digits = [int(d) for d in str(fact)]\n",
    "    return sum(digits)"
   ]
  },
  {
   "cell_type": "code",
   "execution_count": 17,
   "metadata": {},
   "outputs": [
    {
     "data": {
      "text/plain": [
       "648"
      ]
     },
     "execution_count": 17,
     "metadata": {},
     "output_type": "execute_result"
    }
   ],
   "source": [
    "sumFactorialDigits(100)\n",
    "# should return 648"
   ]
  }
 ],
 "metadata": {
  "kernelspec": {
   "display_name": "Python 3",
   "language": "python",
   "name": "python3"
  },
  "language_info": {
   "codemirror_mode": {
    "name": "ipython",
    "version": 3
   },
   "file_extension": ".py",
   "mimetype": "text/x-python",
   "name": "python",
   "nbconvert_exporter": "python",
   "pygments_lexer": "ipython3",
   "version": "3.7.4"
  }
 },
 "nbformat": 4,
 "nbformat_minor": 2
}
