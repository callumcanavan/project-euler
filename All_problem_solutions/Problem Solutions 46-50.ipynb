{
 "cells": [
  {
   "cell_type": "markdown",
   "metadata": {},
   "source": [
    "# Problem 46: Goldbach's other conjecture\n",
    "\n",
    "It was proposed by Christian Goldbach that every odd composite number can be written as the sum of a prime and twice a square.\n",
    "\n",
    "$9 = 7 + 2×1^2$\n",
    "\n",
    "$15 = 7 + 2×2^2$\n",
    "\n",
    "$21 = 3 + 2×3^2$\n",
    "\n",
    "$25 = 7 + 2×3^2$\n",
    "\n",
    "$27 = 19 + 2×2^2$\n",
    "\n",
    "$33 = 31 + 2×1^2$\n",
    "\n",
    "It turns out that the conjecture was false.\n",
    "\n",
    "What is the smallest odd composite that cannot be written as the sum of a prime and twice a square?"
   ]
  },
  {
   "cell_type": "code",
   "execution_count": 1,
   "metadata": {},
   "outputs": [],
   "source": [
    "from itertools import count"
   ]
  },
  {
   "cell_type": "code",
   "execution_count": 2,
   "metadata": {},
   "outputs": [],
   "source": [
    "def goldbach_exception():\n",
    "    '''\n",
    "    First exception to Goldbach's other conjecture\n",
    "    '''    \n",
    "    primes = []\n",
    "    for n in count(3, 2):\n",
    "        # check if n prime\n",
    "        for p in primes:\n",
    "            if n%p == 0:\n",
    "                break\n",
    "        else:\n",
    "            primes += [n]\n",
    "            continue\n",
    "        \n",
    "        # check if conjecture holds for n\n",
    "        for p in primes:\n",
    "            d = n - p\n",
    "            if ((d / 2) ** 0.5).is_integer():\n",
    "                break\n",
    "        else:\n",
    "            return n"
   ]
  },
  {
   "cell_type": "code",
   "execution_count": 3,
   "metadata": {
    "scrolled": true
   },
   "outputs": [
    {
     "data": {
      "text/plain": [
       "5777"
      ]
     },
     "execution_count": 3,
     "metadata": {},
     "output_type": "execute_result"
    }
   ],
   "source": [
    "goldbach_exception()\n",
    "# should return 5777"
   ]
  },
  {
   "cell_type": "markdown",
   "metadata": {},
   "source": [
    "# Problem 47: Distinct primes factors\n",
    "\n",
    "The first two consecutive numbers to have two distinct prime factors are:\n",
    "\n",
    "$14 = 2 × 7$\n",
    "\n",
    "$15 = 3 × 5$\n",
    "\n",
    "The first three consecutive numbers to have three distinct prime factors are:\n",
    "\n",
    "$644 = 2^2 × 7 × 23$\n",
    "\n",
    "$645 = 3 × 5 × 43$\n",
    "\n",
    "$646 = 2 × 17 × 19$\n",
    "\n",
    "Find the first four consecutive integers to have four distinct prime factors each. What is the first of these numbers?"
   ]
  },
  {
   "cell_type": "code",
   "execution_count": 4,
   "metadata": {},
   "outputs": [],
   "source": [
    "def consecutive_distinct_products(n, m, limit):\n",
    "    '''\n",
    "    First set of n consecutive numbers to have\n",
    "    m distinct prime factors each (under limit)\n",
    "    '''\n",
    "    \n",
    "    distinct_factors = [0] * limit # sieve\n",
    "    consec = 0\n",
    "    for i in range(2, limit):\n",
    "        # check if i prime\n",
    "        if distinct_factors[i] == 0:\n",
    "            for j in range(i, limit, i):\n",
    "                distinct_factors[j] += 1\n",
    "        \n",
    "        # check number of distinct prime factors\n",
    "        if distinct_factors[i] == m:\n",
    "            count += 1\n",
    "        else:\n",
    "            count = 0\n",
    "        if count == n:\n",
    "            return (i - m + 1)\n",
    "        \n",
    "    print('No solution found within limit')\n",
    "    return"
   ]
  },
  {
   "cell_type": "code",
   "execution_count": 5,
   "metadata": {},
   "outputs": [
    {
     "data": {
      "text/plain": [
       "134043"
      ]
     },
     "execution_count": 5,
     "metadata": {},
     "output_type": "execute_result"
    }
   ],
   "source": [
    "consecutive_distinct_products(4, 4, 1000000)\n",
    "# should return 134043"
   ]
  },
  {
   "cell_type": "markdown",
   "metadata": {},
   "source": [
    "# Problem 48: Self powers\n",
    "The series, $1^1 + 2^2 + 3^3 + ... + 10^{10} = 10405071317$.\n",
    "\n",
    "Find the last ten digits of the series, $1^1 + 2^2 + 3^3 + ... + 1000^{1000}$."
   ]
  },
  {
   "cell_type": "code",
   "execution_count": 6,
   "metadata": {},
   "outputs": [],
   "source": [
    "def self_powers(n, m):\n",
    "    '''\n",
    "    Last m digits of the sum of the first n\n",
    "    natural numbers raised to their own power\n",
    "    '''\n",
    "    tot = 0\n",
    "    for i in range(1, n+1):\n",
    "        tot += i**i\n",
    "    return str(tot)[-m:]"
   ]
  },
  {
   "cell_type": "code",
   "execution_count": 7,
   "metadata": {},
   "outputs": [
    {
     "data": {
      "text/plain": [
       "'9110846700'"
      ]
     },
     "execution_count": 7,
     "metadata": {},
     "output_type": "execute_result"
    }
   ],
   "source": [
    "self_powers(1000, 10)\n",
    "# should return '9110846700'"
   ]
  },
  {
   "cell_type": "markdown",
   "metadata": {},
   "source": [
    "# Problem 49: Prime permutations\n",
    "The arithmetic sequence, 1487, 4817, 8147, in which each of the terms increases by 3330, is unusual in two ways: (i) each of the three terms are prime, and, (ii) each of the 4-digit numbers are permutations of one another.\n",
    "\n",
    "There are no arithmetic sequences made up of three 1-, 2-, or 3-digit primes, exhibiting this property, but there is one other 4-digit increasing sequence.\n",
    "\n",
    "What 12-digit number do you form by concatenating the three terms in this sequence?"
   ]
  },
  {
   "cell_type": "code",
   "execution_count": 8,
   "metadata": {},
   "outputs": [],
   "source": [
    "def prime_sieve(n):\n",
    "    '''\n",
    "    Array of prime truth values for \n",
    "    integers from 0 to n (inclusive)\n",
    "    '''\n",
    "    if n <= 2: return [False]*(n+1)\n",
    "    sieve = [True] * (n+1)\n",
    "    sieve[:2] = [False] * 2\n",
    "    for i in range(2, int(n**0.5)+1):\n",
    "        sieve[i**2 : n+1 : i] = [False] * len(range(i**2,n+1,i))\n",
    "    return sieve"
   ]
  },
  {
   "cell_type": "code",
   "execution_count": 9,
   "metadata": {},
   "outputs": [],
   "source": [
    "def insert_copies(el, n, elements):\n",
    "    '''\n",
    "    Generator of all unique insertions\n",
    "    of n copies of el into elements\n",
    "    '''\n",
    "    if n == 0:\n",
    "        yield elements\n",
    "    elif len(elements) == 0:\n",
    "        yield el * n\n",
    "    else:\n",
    "        for i in range(n+1):\n",
    "            for insert in insert_copies(el, n-i, elements[1:]):\n",
    "                yield el*i + elements[0:1] + insert"
   ]
  },
  {
   "cell_type": "code",
   "execution_count": 10,
   "metadata": {},
   "outputs": [],
   "source": [
    "def unique_perms(elements):\n",
    "    '''\n",
    "    Generator of all unique permutations of elements\n",
    "    '''\n",
    "    if len(elements) <= 1:\n",
    "        yield elements\n",
    "    else:\n",
    "        el = elements[0]\n",
    "        count = sum(x == el for x in elements)\n",
    "        sub_elements = elements.replace(el,'')\n",
    "        for perm in unique_perms(sub_elements):\n",
    "            for insert in insert_copies(el, count, perm):\n",
    "                yield insert"
   ]
  },
  {
   "cell_type": "code",
   "execution_count": 11,
   "metadata": {},
   "outputs": [],
   "source": [
    "def prime_permutations(n_digits):\n",
    "    '''\n",
    "    Arithmetic sequence of numbers with n_digits which are\n",
    "    all prime and permutation of each other\n",
    "    '''\n",
    "    base = 10\n",
    "    digits = '123456789'\n",
    "    not_allowed = ['1487', '4817', '8147'] # already given\n",
    "    \n",
    "    # iterate over numbers with n_digits\n",
    "    lower_lim, upper_lim = base**(n_digits-1), base**n_digits\n",
    "    primes = prime_sieve(upper_lim)\n",
    "    for i in range(lower_lim, upper_lim):\n",
    "        string = str(i)\n",
    "        \n",
    "        # ignore if i has any 0s\n",
    "        if '0' in string:\n",
    "            for perm in unique_perms(string):\n",
    "                primes[int(perm)] = False\n",
    "            continue\n",
    "        \n",
    "        # collect all permutations which are prime\n",
    "        prime_perms = []\n",
    "        for perm in unique_perms(string):\n",
    "            if primes[int(perm)]:\n",
    "                prime_perms += [perm]\n",
    "        \n",
    "        # find arithmetic sequences\n",
    "        prime_perms.sort()\n",
    "        while prime_perms:\n",
    "            a = prime_perms.pop(0)\n",
    "            diffs = []\n",
    "            for c in prime_perms:\n",
    "                d = int(c) - int(a)\n",
    "                b = str(int(a) + int(d/2))\n",
    "                if d/2 in diffs and [a,b,c] != not_allowed:\n",
    "                    return int(a + b + c)\n",
    "                else:\n",
    "                    diffs += [d]\n",
    "                    \n",
    "    print('No prime permutation sequences found')\n",
    "    return"
   ]
  },
  {
   "cell_type": "code",
   "execution_count": 12,
   "metadata": {},
   "outputs": [
    {
     "data": {
      "text/plain": [
       "296962999629"
      ]
     },
     "execution_count": 12,
     "metadata": {},
     "output_type": "execute_result"
    }
   ],
   "source": [
    "prime_permutations(4)\n",
    "# should return 296962999629"
   ]
  },
  {
   "cell_type": "markdown",
   "metadata": {},
   "source": [
    "# Problem 50: Consecutive prime sum\n",
    "The prime 41, can be written as the sum of six consecutive primes:\n",
    "\n",
    "41 = 2 + 3 + 5 + 7 + 11 + 13\n",
    "\n",
    "This is the longest sum of consecutive primes that adds to a prime below one-hundred.\n",
    "\n",
    "The longest sum of consecutive primes below one-thousand that adds to a prime, contains 21 terms, and is equal to 953.\n",
    "\n",
    "Which prime, below one-million, can be written as the sum of the most consecutive primes?"
   ]
  },
  {
   "cell_type": "code",
   "execution_count": 13,
   "metadata": {},
   "outputs": [],
   "source": [
    "def prime_sieve(n):\n",
    "    '''\n",
    "    Array of prime truth values for \n",
    "    integers from 0 to n (inclusive)\n",
    "    '''\n",
    "    if n <= 2: return [False]*(n+1)\n",
    "    sieve = [True] * (n+1)\n",
    "    sieve[:2] = [False] * 2\n",
    "    for i in range(2, int(n**0.5)+1):\n",
    "        sieve[i**2 : n+1 : i] = [False] * len(range(i**2,n+1,i))\n",
    "    return sieve"
   ]
  },
  {
   "cell_type": "code",
   "execution_count": 14,
   "metadata": {},
   "outputs": [],
   "source": [
    "def consecutive_prime_sum(limit):\n",
    "    '''\n",
    "    Prime number below limit that can be written\n",
    "    as the longest sum of consecutive primes\n",
    "    '''\n",
    "    # get all primes below limit\n",
    "    sieve = prime_sieve(limit)\n",
    "    primes = []\n",
    "    for i in range(limit):\n",
    "        if sieve[i]:\n",
    "            primes += [i]\n",
    "            \n",
    "    opt_prime = 2\n",
    "    i = longest = 0\n",
    "    while primes[i] * longest < limit:\n",
    "        # calculate all sums which start at ith prime\n",
    "        tot = primes[i]\n",
    "        j = i + 1\n",
    "        while tot + primes[j] < limit:\n",
    "            tot += primes[j]\n",
    "            if sieve[tot] and (j - i + 1) > longest:\n",
    "                # update longest sum\n",
    "                opt_prime = tot\n",
    "                longest = (j - i + 1)\n",
    "            j += 1\n",
    "        i += 1\n",
    "        \n",
    "    return opt_prime"
   ]
  },
  {
   "cell_type": "code",
   "execution_count": 15,
   "metadata": {},
   "outputs": [
    {
     "data": {
      "text/plain": [
       "997651"
      ]
     },
     "execution_count": 15,
     "metadata": {},
     "output_type": "execute_result"
    }
   ],
   "source": [
    "consecutive_prime_sum(1000000)\n",
    "# should return 997651"
   ]
  }
 ],
 "metadata": {
  "kernelspec": {
   "display_name": "Python 3",
   "language": "python",
   "name": "python3"
  },
  "language_info": {
   "codemirror_mode": {
    "name": "ipython",
    "version": 3
   },
   "file_extension": ".py",
   "mimetype": "text/x-python",
   "name": "python",
   "nbconvert_exporter": "python",
   "pygments_lexer": "ipython3",
   "version": "3.7.4"
  }
 },
 "nbformat": 4,
 "nbformat_minor": 2
}
