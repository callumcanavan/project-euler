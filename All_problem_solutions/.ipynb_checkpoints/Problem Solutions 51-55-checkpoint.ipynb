{
 "cells": [
  {
   "cell_type": "markdown",
   "metadata": {},
   "source": [
    "# Problem 51: Prime digit replacements\n",
    "By replacing the 1st digit of the 2-digit number *3, it turns out that six of the nine possible values: 13, 23, 43, 53, 73, and 83, are all prime.\n",
    "\n",
    "By replacing the 3rd and 4th digits of 56**3 with the same digit, this 5-digit number is the first example having seven primes among the ten generated numbers, yielding the family: 56003, 56113, 56333, 56443, 56663, 56773, and 56993. Consequently 56003, being the first member of this family, is the smallest prime with this property.\n",
    "\n",
    "Find the smallest prime which, by replacing part of the number (not necessarily adjacent digits) with the same digit, is part of an eight prime value family."
   ]
  },
  {
   "cell_type": "code",
   "execution_count": 1,
   "metadata": {},
   "outputs": [],
   "source": [
    "def prime_sieve(n):\n",
    "    '''\n",
    "    Array of prime truth values for \n",
    "    integers from 0 to n (inclusive)\n",
    "    '''\n",
    "    if n <= 2: return [False]*(n+1)\n",
    "    sieve = [True] * (n+1)\n",
    "    sieve[:2] = [False] * 2\n",
    "    for i in range(2, int(n**0.5)+1):\n",
    "        sieve[i**2 : n+1 : i] = [False] * len(range(i**2,n+1,i))\n",
    "    return sieve"
   ]
  },
  {
   "cell_type": "code",
   "execution_count": 2,
   "metadata": {},
   "outputs": [],
   "source": [
    "def idx_choices(length, outer=True):\n",
    "    '''\n",
    "    Generator of all non-empty subsets of\n",
    "    integers between 0 and length (inclusive)\n",
    "    '''\n",
    "    if length == 0:\n",
    "        yield []\n",
    "    else:\n",
    "        for choice in idx_choices(length-1, False):\n",
    "            yield [length-1] + choice\n",
    "            if not outer or len(choice) > 0:\n",
    "                yield choice"
   ]
  },
  {
   "cell_type": "code",
   "execution_count": 3,
   "metadata": {},
   "outputs": [],
   "source": [
    "def prime_digit_replacements(n, limit):\n",
    "    '''\n",
    "    Smallest number in prime number family of size n,\n",
    "    related to each other by the replacement of identical\n",
    "    digits and all less than limit\n",
    "    '''\n",
    "    base = 10\n",
    "    primes = prime_sieve(limit)\n",
    "    for N in range(11, limit, 2):\n",
    "        if not primes[N]:\n",
    "            continue\n",
    "        string = str(N)\n",
    "        threshold = base - n\n",
    "        \n",
    "        # iterate over all digit subsets\n",
    "        for choice in idx_choices(len(string)-1):\n",
    "            digit = string[choice[0]]\n",
    "            if int(digit) > threshold:\n",
    "                continue\n",
    "            # check digits in subset are identical\n",
    "            for i in range(1, len(choice)):\n",
    "                if string[choice[i]] != digit:\n",
    "                    break\n",
    "            else:\n",
    "                non_primes = int(digit)\n",
    "                for d in range(int(digit)+1, base):\n",
    "                    new_string = list(string)\n",
    "                    for idx in choice:\n",
    "                        new_string[idx] = str(d)\n",
    "                    new_string = ''.join(new_string)\n",
    "                    if not primes[int(new_string)]:\n",
    "                        non_primes += 1\n",
    "                    if non_primes > threshold:\n",
    "                        break\n",
    "                    if (d - non_primes + 1) == n:\n",
    "                        return N\n",
    "    \n",
    "    print('No solutions found within limit')\n",
    "    return"
   ]
  },
  {
   "cell_type": "code",
   "execution_count": 4,
   "metadata": {},
   "outputs": [
    {
     "data": {
      "text/plain": [
       "121313"
      ]
     },
     "execution_count": 4,
     "metadata": {},
     "output_type": "execute_result"
    }
   ],
   "source": [
    "prime_digit_replacements(8, 10**6)\n",
    "# should return 121313"
   ]
  },
  {
   "cell_type": "markdown",
   "metadata": {},
   "source": [
    "# Problem 52: Permuted multiples\n",
    "It can be seen that the number, 125874, and its double, 251748, contain exactly the same digits, but in a different order.\n",
    "\n",
    "Find the smallest positive integer, x, such that 2x, 3x, 4x, 5x, and 6x, contain the same digits."
   ]
  },
  {
   "cell_type": "code",
   "execution_count": 5,
   "metadata": {},
   "outputs": [],
   "source": [
    "def permuted_multiples(n, m):\n",
    "    '''\n",
    "    Smallest positive integer x (with at most m digits)\n",
    "    s.t. 2*x, 3*x,..., n*x are all permutations of x\n",
    "    '''\n",
    "    b = 10\n",
    "    max_sig = b//n + 1\n",
    "    for n_digits in range(m):\n",
    "        for N in range(b**n_digits, max_sig * b**n_digits):\n",
    "            sorted_N = sorted(str(N))\n",
    "            for i in range(2, n+1):\n",
    "                if sorted_N != sorted(str(i * N)):\n",
    "                    break\n",
    "            else:\n",
    "                return N\n",
    "    print('No solutions found within range')\n",
    "    return"
   ]
  },
  {
   "cell_type": "code",
   "execution_count": 6,
   "metadata": {},
   "outputs": [
    {
     "data": {
      "text/plain": [
       "142857"
      ]
     },
     "execution_count": 6,
     "metadata": {},
     "output_type": "execute_result"
    }
   ],
   "source": [
    "permuted_multiples(6, 6)\n",
    "# should return 142857"
   ]
  },
  {
   "cell_type": "markdown",
   "metadata": {},
   "source": [
    "# Problem 53: Combinatoric selections\n",
    "There are exactly ten ways of selecting three from five, 12345:\n",
    "\n",
    "123, 124, 125, 134, 135, 145, 234, 235, 245, and 345\n",
    "\n",
    "In combinatorics, we use the notation, $^5C_3 = 10$.\n",
    "\n",
    "In general,\n",
    "\n",
    "$^nC_r = \\cfrac{n!}{r!(n−r)!}$, $r \\leq n$, \n",
    "\n",
    "$n! = n×(n−1)×...×3×2×1$, and $0! = 1$.\n",
    "\n",
    "It is not until $n = 23$, that a value exceeds one-million: $^{23}C_{10} = 1144066$. How many, not necessarily distinct, values of  $^nC_r$, for $1 \\leq n \\leq 100$, are greater than one-million?"
   ]
  },
  {
   "cell_type": "code",
   "execution_count": 7,
   "metadata": {},
   "outputs": [],
   "source": [
    "from scipy.special import comb"
   ]
  },
  {
   "cell_type": "code",
   "execution_count": 8,
   "metadata": {},
   "outputs": [],
   "source": [
    "def comb_selections(a, b):\n",
    "    '''\n",
    "    Number of values of nCr which exceed a\n",
    "    for n between 1 and b (inclusive)\n",
    "    '''\n",
    "    tot = 0\n",
    "    \n",
    "    # check all unique nCr values in descending order\n",
    "    for n in reversed(range(1, b+1)):\n",
    "        start = n//2 + n%2\n",
    "        if comb(n, start, True) <= a:\n",
    "            break\n",
    "        tot += (1 + n%2)\n",
    "        for r in range(start+1, n+1):\n",
    "            if comb(n, r, True) <= a:\n",
    "                break\n",
    "            tot += 2\n",
    "            \n",
    "    return tot"
   ]
  },
  {
   "cell_type": "code",
   "execution_count": 9,
   "metadata": {},
   "outputs": [
    {
     "data": {
      "text/plain": [
       "4075"
      ]
     },
     "execution_count": 9,
     "metadata": {},
     "output_type": "execute_result"
    }
   ],
   "source": [
    "comb_selections(10**6, 100)\n",
    "# should return 4075"
   ]
  },
  {
   "cell_type": "markdown",
   "metadata": {},
   "source": [
    "# Problem 54: Poker hands\n",
    "In the card game poker, a hand consists of five cards and are ranked, from lowest to highest, in the following way:\n",
    "\n",
    "- High Card: Highest value card.\n",
    "\n",
    "- One Pair: Two cards of the same value.\n",
    "\n",
    "- Two Pairs: Two different pairs.\n",
    "\n",
    "- Three of a Kind: Three cards of the same value.\n",
    "\n",
    "- Straight: All cards are consecutive values.\n",
    "\n",
    "- Flush: All cards of the same suit.\n",
    "\n",
    "- Full House: Three of a kind and a pair.\n",
    "\n",
    "- Four of a Kind: Four cards of the same value.\n",
    "\n",
    "- Straight Flush: All cards are consecutive values of same suit.\n",
    "\n",
    "- Royal Flush: Ten, Jack, Queen, King, Ace, in same suit.\n",
    "\n",
    "The cards are valued in the order: \n",
    "\n",
    "2, 3, 4, 5, 6, 7, 8, 9, 10, Jack, Queen, King, Ace.\n",
    "\n",
    "If two players have the same ranked hands then the rank made up of the highest value wins; for example, a pair of eights beats a pair of fives (see example 1 below). But if two ranks tie, for example, both players have a pair of queens, then highest cards in each hand are compared (see example 4 below); if the highest cards tie then the next highest cards are compared, and so on.\n",
    "\n",
    "Consider the following five hands dealt to two players:\n",
    "\n",
    "|Hand| Player 1 | Player 2 | Winner |\n",
    "|-|-|-|-|\n",
    "|1 | 5H 5C 6S 7S KD (Pair of Fives) | 2C 3S 8S 8D TD (Pair of Eights) | Player 2 |\n",
    "|2 |5D 8C 9S JS AC (Highest card Ace) | 2C 5C 7D 8S QH (Highest card Queen)| Player 1|\n",
    "|3 | 2D 9C AS AH AC (Three Aces)| 3D 6D 7D TD QD (Flush with Diamonds)| Player 2|\n",
    "|4 |4D 6S 9H QH QC (Pair Queens High 9)|3D 6D 7H QD QS (Pair Queens High 7)| Player 1|\n",
    "|5 | 2H 2D 4C 4D 4S (Full House: Three 4s)|3C 3D 3S 9S 9D (Full House: Three 3s)| Player 1|                 \n",
    "\n",
    "The file, data > poker.txt, contains one-thousand random hands dealt to two players. Each line of the file contains ten cards (separated by a single space): the first five are Player 1's cards and the last five are Player 2's cards. You can assume that all hands are valid (no invalid characters or repeated cards), each player's hand is in no specific order, and in each hand there is a clear winner. How many hands does Player 1 win?"
   ]
  },
  {
   "cell_type": "code",
   "execution_count": 10,
   "metadata": {},
   "outputs": [],
   "source": [
    "import numpy as np"
   ]
  },
  {
   "cell_type": "code",
   "execution_count": 11,
   "metadata": {},
   "outputs": [],
   "source": [
    "# load poker hands\n",
    "from pathlib import Path\n",
    "poker_path = Path('data') / 'poker.txt'\n",
    "poker_file = open(poker_path, 'r')\n",
    "poker = poker_file.readlines()\n",
    "for i in range(len(poker)):\n",
    "    poker[i] = poker[i].replace('\\n','').split()"
   ]
  },
  {
   "cell_type": "code",
   "execution_count": 12,
   "metadata": {},
   "outputs": [],
   "source": [
    "val_order = ['2','3','4','5','6','7','8','9','T','J','Q','K','A']\n",
    "rank_order = ['HC', '1P', '2P', '3K', 'S', 'F', 'FH', '4K', 'SF']"
   ]
  },
  {
   "cell_type": "code",
   "execution_count": 13,
   "metadata": {},
   "outputs": [],
   "source": [
    "def sort_hand(hand):\n",
    "    '''\n",
    "    Sort hand in order of value\n",
    "    '''\n",
    "    key = lambda card : val_order.index(card[0])\n",
    "    return sorted(hand, key=key)"
   ]
  },
  {
   "cell_type": "code",
   "execution_count": 14,
   "metadata": {},
   "outputs": [],
   "source": [
    "def parse_hand(hand):\n",
    "    '''\n",
    "    Value indices and suits of cards in hand\n",
    "    '''\n",
    "    hand = sort_hand(hand)\n",
    "    vals = []\n",
    "    suits = []\n",
    "    for card in hand:\n",
    "        vals += [val_order.index(card[0])]\n",
    "        suits += card[1]\n",
    "    return vals, suits"
   ]
  },
  {
   "cell_type": "code",
   "execution_count": 15,
   "metadata": {},
   "outputs": [],
   "source": [
    "def evaluate_hand(hand):\n",
    "    '''\n",
    "    Rank index, rank value index and\n",
    "    highest value index in hand\n",
    "    '''\n",
    "    vals, suits = parse_hand(hand)\n",
    "    rank = 'HC'\n",
    "    straight = flush = True\n",
    "    repeated_vals = []\n",
    "    \n",
    "    # check for duplicate values\n",
    "    for i in range(1, len(hand)):\n",
    "        if suits[i] != suits[i-1]:\n",
    "            flush = False\n",
    "        if vals[i] != (vals[i-1] + 1):\n",
    "            straight = False\n",
    "        if vals[i] == vals[i-1]:\n",
    "            if vals[i] in repeated_vals:\n",
    "                if rank == '3K':\n",
    "                    rank = '4K'\n",
    "                elif rank == '2P':\n",
    "                    rank = 'FH'\n",
    "                elif rank == '1P':\n",
    "                    rank = '3K'\n",
    "            else:\n",
    "                repeated_vals += [vals[i]]\n",
    "                if rank == '3K':\n",
    "                    rank = 'FH'\n",
    "                elif rank == '1P':\n",
    "                    rank = '2P'\n",
    "                else:\n",
    "                    rank = '1P'\n",
    "    \n",
    "    # check for straight/flush\n",
    "    if straight and flush:\n",
    "        rank = 'SF'\n",
    "    elif straight:\n",
    "        rank = 'S'\n",
    "    elif flush:\n",
    "        rank = 'F'\n",
    "    \n",
    "    rank_idx = rank_order.index(rank)\n",
    "    if repeated_vals and (not flush):\n",
    "        rank_val_idx = repeated_vals[-1]\n",
    "    else:\n",
    "        rank_val_idx = vals[-1]\n",
    "    \n",
    "    \n",
    "    return rank_idx, rank_val_idx, vals[-1]"
   ]
  },
  {
   "cell_type": "code",
   "execution_count": 16,
   "metadata": {},
   "outputs": [],
   "source": [
    "def compare_hands(h1, h2):\n",
    "    '''\n",
    "    1 if hand h1 beats hand h2,\n",
    "    -1 if h2 beats h1, 0 if tie\n",
    "    '''\n",
    "    r1, r2 = evaluate_hand(h1), evaluate_hand(h2)\n",
    "    if r1 > r2:\n",
    "        return 1\n",
    "    elif r1 < r2:\n",
    "        return -1\n",
    "    else:\n",
    "        return 0"
   ]
  },
  {
   "cell_type": "code",
   "execution_count": 17,
   "metadata": {},
   "outputs": [],
   "source": [
    "def player1_wins(games):\n",
    "    '''\n",
    "    Number of hands won by player 1 across games\n",
    "    '''\n",
    "    wins = 0\n",
    "    for g in games:\n",
    "        # separate hands\n",
    "        h1, h2 = g[:5], g[5:]\n",
    "        # compare\n",
    "        if compare_hands(h1, h2) == 1:\n",
    "            wins += 1\n",
    "    return wins"
   ]
  },
  {
   "cell_type": "code",
   "execution_count": 18,
   "metadata": {},
   "outputs": [
    {
     "data": {
      "text/plain": [
       "376"
      ]
     },
     "execution_count": 18,
     "metadata": {},
     "output_type": "execute_result"
    }
   ],
   "source": [
    "player1_wins(poker)\n",
    "# should return 376"
   ]
  },
  {
   "cell_type": "markdown",
   "metadata": {},
   "source": [
    "# Problem 55: Lychrel numbers\n",
    "If we take 47, reverse and add, 47 + 74 = 121, which is palindromic.\n",
    "\n",
    "Not all numbers produce palindromes so quickly. For example,\n",
    "\n",
    "349 + 943 = 1292,\n",
    "\n",
    "1292 + 2921 = 4213\n",
    "\n",
    "4213 + 3124 = 7337\n",
    "\n",
    "That is, 349 took three iterations to arrive at a palindrome.\n",
    "\n",
    "Although no one has proved it yet, it is thought that some numbers, like 196, never produce a palindrome. A number that never forms a palindrome through the reverse and add process is called a Lychrel number. Due to the theoretical nature of these numbers, and for the purpose of this problem, we shall assume that a number is Lychrel until proven otherwise. In addition you are given that for every number below ten-thousand, it will either (i) become a palindrome in less than fifty iterations, or, (ii) no one, with all the computing power that exists, has managed so far to map it to a palindrome. In fact, 10677 is the first number to be shown to require over fifty iterations before producing a palindrome: 4668731596684224866951378664 (53 iterations, 28-digits).\n",
    "\n",
    "Surprisingly, there are palindromic numbers that are themselves Lychrel numbers; the first example is 4994.\n",
    "\n",
    "How many Lychrel numbers are there below $\\texttt{num}$?"
   ]
  },
  {
   "cell_type": "code",
   "execution_count": 19,
   "metadata": {},
   "outputs": [],
   "source": [
    "def is_palindrome(N):\n",
    "    '''\n",
    "    True if N is palindrome, else False\n",
    "    '''\n",
    "    string = str(N)\n",
    "    l = len(string)\n",
    "    for i in range(len(string)//2):\n",
    "        if string[i] != string[l-i-1]:\n",
    "            return False\n",
    "    return True"
   ]
  },
  {
   "cell_type": "code",
   "execution_count": 20,
   "metadata": {},
   "outputs": [],
   "source": [
    "def lychrel_numbers(num, theor_limit):\n",
    "    '''\n",
    "    Number of Lychrel numbers below num (assuming\n",
    "    all non-Lychrel numbers take < theor_limit\n",
    "    iterations to produce a palindrome)\n",
    "    '''\n",
    "    tot = 0\n",
    "    for N in range(num):\n",
    "        for i in range(theor_limit-1):\n",
    "            N = N + int(str(N)[::-1])\n",
    "            if is_palindrome(N):\n",
    "                break\n",
    "        else:\n",
    "            tot += 1\n",
    "    return tot"
   ]
  },
  {
   "cell_type": "code",
   "execution_count": 21,
   "metadata": {
    "scrolled": true
   },
   "outputs": [
    {
     "data": {
      "text/plain": [
       "249"
      ]
     },
     "execution_count": 21,
     "metadata": {},
     "output_type": "execute_result"
    }
   ],
   "source": [
    "lychrel_numbers(10000, 50)\n",
    "# should return 249"
   ]
  }
 ],
 "metadata": {
  "kernelspec": {
   "display_name": "Python 3",
   "language": "python",
   "name": "python3"
  },
  "language_info": {
   "codemirror_mode": {
    "name": "ipython",
    "version": 3
   },
   "file_extension": ".py",
   "mimetype": "text/x-python",
   "name": "python",
   "nbconvert_exporter": "python",
   "pygments_lexer": "ipython3",
   "version": "3.7.4"
  }
 },
 "nbformat": 4,
 "nbformat_minor": 2
}
