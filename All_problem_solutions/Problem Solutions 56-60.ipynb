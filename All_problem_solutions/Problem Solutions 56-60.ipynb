{
 "cells": [
  {
   "cell_type": "markdown",
   "metadata": {},
   "source": [
    "# Problem 56: Powerful digit sum\n",
    "   \n",
    "A googol ($10^{100}$) is a massive number: one followed by one-hundred zeros; $100^{100}$ is almost unimaginably large: one followed by two-hundred zeros. Despite their size, the sum of the digits in each number is only 1.\n",
    "\n",
    "Considering natural numbers of the form, $a^b$, where $a, b < 100$, what is the maximum digital sum?"
   ]
  },
  {
   "cell_type": "code",
   "execution_count": 1,
   "metadata": {},
   "outputs": [],
   "source": [
    "def power_digit_sum(n):\n",
    "    '''\n",
    "    Maximum digital sum for integers of the form\n",
    "    a^b where a, b < n\n",
    "    '''\n",
    "    # check digit sum for all a, b pairs\n",
    "    m = 0\n",
    "    for a in range(n):\n",
    "        for b in range(n):\n",
    "            ps = sum([int(d) for d in str(a**b)])\n",
    "            if ps > m:\n",
    "                m = ps\n",
    "    return m"
   ]
  },
  {
   "cell_type": "code",
   "execution_count": 2,
   "metadata": {},
   "outputs": [
    {
     "data": {
      "text/plain": [
       "972"
      ]
     },
     "execution_count": 2,
     "metadata": {},
     "output_type": "execute_result"
    }
   ],
   "source": [
    "power_digit_sum(100)\n",
    "# should return 972"
   ]
  },
  {
   "cell_type": "markdown",
   "metadata": {},
   "source": [
    "# Problem 57: Square root convergents\n",
    "It is possible to show that the square root of two can be expressed as an infinite continued fraction.\n",
    "\n",
    "$\\sqrt{2} = 1 + \\dfrac{1}{2 + \\frac{1}{2 + \\frac{1}{2 + ...}}}$\n",
    "\n",
    "By expanding this for the first four iterations, we get:\n",
    "\n",
    "$1 + \\frac{1}{2} = \\frac{3}{2} = 1.5$\n",
    "\n",
    "$1 + \\frac{1}{2+\\frac{1}{2}} = \\frac{7}{5} = 1.4$\n",
    "\n",
    "$1 + \\frac{1}{2+\\frac{1}{2+\\frac{1}{2}}} = \\frac{17}{12} = 1.41666...$\n",
    "\n",
    "$1 + \\frac{1}{2+\\frac{1}{2+\\frac{1}{2+\\frac{1}{2}}}} = \\frac{41}{29} = 1.41379...$\n",
    "\n",
    "\n",
    "The next three expansions are $\\frac{99}{70}$, $\\frac{239}{169}$, and $\\frac{577}{408}$ but the eighth expansion, $\\frac{1393}{985}$, is the first example where the number of digits in the numerator exceeds the number of digits in the denominator.\n",
    "\n",
    "In the first one-thousand expansions, how many fractions contain a numerator with more digits than the denominator?"
   ]
  },
  {
   "cell_type": "code",
   "execution_count": 3,
   "metadata": {},
   "outputs": [],
   "source": [
    "from math import gcd"
   ]
  },
  {
   "cell_type": "code",
   "execution_count": 4,
   "metadata": {},
   "outputs": [],
   "source": [
    "def euler57(iters):\n",
    "    '''\n",
    "    Number of expansions of root 2 in which the numerator contains \n",
    "    more digits than the denominator (within iters iterations)\n",
    "    '''\n",
    "    if iters < 8:\n",
    "        return 0\n",
    "    \n",
    "    # iteratively calculate numerator and denominator\n",
    "    tot = 0\n",
    "    num, den = 3, 2\n",
    "    for i in range(iters-1):\n",
    "        num, den = (num + 2*den), (num + den)\n",
    "        num, den = (num // gcd(num,den)), (den // gcd(num, den))\n",
    "        if len(str(num)) > len((str(den))):\n",
    "            tot += 1\n",
    "    return tot"
   ]
  },
  {
   "cell_type": "code",
   "execution_count": 5,
   "metadata": {},
   "outputs": [
    {
     "data": {
      "text/plain": [
       "153"
      ]
     },
     "execution_count": 5,
     "metadata": {},
     "output_type": "execute_result"
    }
   ],
   "source": [
    "euler57(1000)\n",
    "# should return 153"
   ]
  },
  {
   "cell_type": "markdown",
   "metadata": {},
   "source": [
    "# Problem 58: Spiral primes\n",
    "\n",
    "Starting with 1 and spiralling anticlockwise in the following way, a square spiral with side length 7 is formed.\n",
    "\n",
    "$\\underline{\\textbf{37}} \\ 36 \\ 35 \\ 34 \\ 33 \\ 32 \\ \\underline{\\textbf{31}}$\n",
    "\n",
    "$38 \\ \\underline{\\textbf{17}} \\ 16 \\ 15 \\ 14 \\ \\underline{\\textbf{13}} \\ 30$\n",
    "\n",
    "$39 \\ 18 \\ \\underline{\\textbf{05}} \\ 04 \\ \\underline{\\textbf{03}} \\ 12 \\ 29$\n",
    "\n",
    "$40 \\ 19 \\ 06 \\ 01 \\ 02 \\ 11 \\ 28 $\n",
    "\n",
    "$41 \\ 20 \\ \\underline{\\textbf{07}} \\ 08 \\ 09 \\ 10 \\ 27$\n",
    "\n",
    "$42 \\ 21 \\ 22 \\ 23 \\ 24 \\ 25 \\ 26$\n",
    "\n",
    "$\\underline{\\textbf{43}} \\ 44 \\ 45 \\ 46 \\ 47 \\ 48 \\ 49$\n",
    "\n",
    "It is interesting to note that the odd squares lie along the bottom right diagonal, but what is more interesting is that 8 out of the 13 numbers lying along both diagonals are prime; that is, a ratio of $8/13 \\approx 62\\%$.\n",
    "\n",
    "If one complete new layer is wrapped around the spiral above, a square spiral with side length 9 will be formed. If this process is continued, what is the side length of the square spiral for which the ratio of primes along both diagonals first falls below 10%?"
   ]
  },
  {
   "cell_type": "code",
   "execution_count": 6,
   "metadata": {},
   "outputs": [],
   "source": [
    "from itertools import count"
   ]
  },
  {
   "cell_type": "code",
   "execution_count": 7,
   "metadata": {},
   "outputs": [],
   "source": [
    "def p(N):\n",
    "    '''\n",
    "    True if N prime, else false\n",
    "    '''\n",
    "    if N < 2: return False \n",
    "    root = int(N**0.5)\n",
    "    for i in range(2,root+1):\n",
    "        if (N%i == 0):\n",
    "            return False\n",
    "    return True"
   ]
  },
  {
   "cell_type": "code",
   "execution_count": 8,
   "metadata": {},
   "outputs": [],
   "source": [
    "def spiral_primes(l_max, threshold):\n",
    "    '''\n",
    "    Side length of number spiral (below l_max) at which fraction\n",
    "    of numbers along diagonal are prime is > threshold\n",
    "    '''\n",
    "    if l_max < 3 and threshold > 0: return 1\n",
    "    # iterate over odd side lengths\n",
    "    n_prime, n_diag = 0, 1\n",
    "    for l in range(3, l_max+1, 2):\n",
    "        n_diag += 4\n",
    "        N = (l-2)**2 + l - 1\n",
    "        # check how many corners are prime and add\n",
    "        n_prime += p(N) + p(N+l-1) + p(N+2*(l-1))\n",
    "        if (n_prime / n_diag) < threshold:\n",
    "            return l\n",
    "    print('No solutions found within range')\n",
    "    return"
   ]
  },
  {
   "cell_type": "code",
   "execution_count": 9,
   "metadata": {},
   "outputs": [
    {
     "data": {
      "text/plain": [
       "26241"
      ]
     },
     "execution_count": 9,
     "metadata": {},
     "output_type": "execute_result"
    }
   ],
   "source": [
    "spiral_primes(10**5, 0.1)\n",
    "# should return 26241"
   ]
  },
  {
   "cell_type": "markdown",
   "metadata": {},
   "source": [
    "# Problem 59: XOR decryption\n",
    "   \n",
    "Each character on a computer is assigned a unique code and the preferred standard is ASCII (American Standard Code for Information Interchange). For example, uppercase A = 65, asterisk (*) = 42, and lowercase k = 107.\n",
    "\n",
    "A modern encryption method is to take a text file, convert the bytes to ASCII, then XOR each byte with a given value, taken from a secret key. The advantage with the XOR function is that using the same encryption key on the cipher text, restores the plain text; for example, 65 XOR 42 = 107, then 107 XOR 42 = 65.\n",
    "\n",
    "For unbreakable encryption, the key is the same length as the plain text message, and the key is made up of random bytes. The user would keep the encrypted message and the encryption key in different locations, and without both \"halves\", it is impossible to decrypt the message.\n",
    "\n",
    "Unfortunately, this method is impractical for most users, so the modified method is to use a password as a key. If the password is shorter than the message, which is likely, the key is repeated cyclically throughout the message. The balance for this method is using a sufficiently long password key for security, but short enough to be memorable.\n",
    "\n",
    "Your task has been made easy, as the encryption key consists of three lower case characters. Using data > p059_cipher.txt, a file containing the encrypted ASCII codes, and the knowledge that the plain text must contain common English words, decrypt the message and find the sum of the ASCII values in the original text."
   ]
  },
  {
   "cell_type": "code",
   "execution_count": 10,
   "metadata": {},
   "outputs": [],
   "source": [
    "import numpy as np\n",
    "from itertools import product"
   ]
  },
  {
   "cell_type": "code",
   "execution_count": 11,
   "metadata": {},
   "outputs": [],
   "source": [
    "# load cipher\n",
    "from pathlib import Path\n",
    "cipher_file = Path('data') / 'p059_cipher.txt'\n",
    "cipher = np.loadtxt(cipher_file, delimiter=',', dtype=int)"
   ]
  },
  {
   "cell_type": "code",
   "execution_count": 12,
   "metadata": {},
   "outputs": [],
   "source": [
    "lower_ords = [i for i in range(ord('a'), ord('z')+1)]\n",
    "upper_ords = [i for i in range(ord('A'), ord('Z')+1)]\n",
    "num_ords = [i for i in range(ord('0'), ord('9')+1)]\n",
    "space_ords = [i for i in range(33)]\n",
    "punct_ords = [33,34,38,39,40,41,44,45,46,47,58,59,63,96]\n",
    "misc = [ord('+'), ord('['), ord(']')]\n",
    "allowed_ords = lower_ords + upper_ords + num_ords + \\\n",
    "                space_ords + punct_ords + misc"
   ]
  },
  {
   "cell_type": "code",
   "execution_count": 13,
   "metadata": {},
   "outputs": [],
   "source": [
    "def decrypt(cipher):\n",
    "    '''\n",
    "    Find keys of 3 lowercase letters which decrypt\n",
    "    ASCII values in cipher to produce string of \n",
    "    common letters, numbers and punctuation, and sum\n",
    "    decrypted ASCII values\n",
    "    '''\n",
    "    len_key = 3\n",
    "    \n",
    "    # for each position within key find set of candidates that\n",
    "    # give common symbols for each relevant byte in cipher\n",
    "    candidates = []\n",
    "    for pos in range(len_key):\n",
    "        candidates += [[]]\n",
    "        for lord in lower_ords:\n",
    "            for c in cipher[pos::len_key]:\n",
    "                if c^lord not in allowed_ords:\n",
    "                    break\n",
    "            else:\n",
    "                candidates[pos] += [lord]\n",
    "                \n",
    "    # print sum and decrypted message for every possible key\n",
    "    for combo in product(*candidates):\n",
    "        tot = 0\n",
    "        decrypted = ''\n",
    "        for i, c in enumerate(cipher):\n",
    "            pos = i % len_key\n",
    "            xor = c ^ combo[pos]\n",
    "            tot += xor\n",
    "            decrypted += chr(xor)\n",
    "        print('sum = %d\\n' % tot)\n",
    "        print('Decrypted text:\\n\\n%s' % decrypted)"
   ]
  },
  {
   "cell_type": "code",
   "execution_count": 14,
   "metadata": {},
   "outputs": [
    {
     "name": "stdout",
     "output_type": "stream",
     "text": [
      "sum = 129448\n",
      "\n",
      "Decrypted text:\n",
      "\n",
      "An extract taken from the introduction of one of Euler's most celebrated papers, \"De summis serierum reciprocarum\" [On the sums of series of reciprocals]: I have recently found, quite unexpectedly, an elegant expression for the entire sum of this series 1 + 1/4 + 1/9 + 1/16 + etc., which depends on the quadrature of the circle, so that if the true sum of this series is obtained, from it at once the quadrature of the circle follows. Namely, I have found that the sum of this series is a sixth part of the square of the perimeter of the circle whose diameter is 1; or by putting the sum of this series equal to s, it has the ratio sqrt(6) multiplied by s to 1 of the perimeter to the diameter. I will soon show that the sum of this series to be approximately 1.644934066842264364; and from multiplying this number by six, and then taking the square root, the number 3.141592653589793238 is indeed produced, which expresses the perimeter of a circle whose diameter is 1. Following again the same steps by which I had arrived at this sum, I have discovered that the sum of the series 1 + 1/16 + 1/81 + 1/256 + 1/625 + etc. also depends on the quadrature of the circle. Namely, the sum of this multiplied by 90 gives the biquadrate (fourth power) of the circumference of the perimeter of a circle whose diameter is 1. And by similar reasoning I have likewise been able to determine the sums of the subsequent series in which the exponents are even numbers.\n"
     ]
    }
   ],
   "source": [
    "decrypt(cipher)\n",
    "# should return sum of 129448"
   ]
  },
  {
   "cell_type": "markdown",
   "metadata": {},
   "source": [
    "# Problem 60: Prime pair sets\n",
    "\n",
    "The primes 3, 7, 109, and 673, are quite remarkable. By taking any two primes and concatenating them in any order the result will always be prime. For example, taking 7 and 109, both 7109 and 1097 are prime. The sum of these four primes, 792, represents the lowest sum for a set of four primes with this property.\n",
    "\n",
    "Find the lowest sum for a set of five primes for which any two primes concatenate to produce another prime."
   ]
  },
  {
   "cell_type": "code",
   "execution_count": 15,
   "metadata": {},
   "outputs": [],
   "source": [
    "import numpy as np"
   ]
  },
  {
   "cell_type": "code",
   "execution_count": 16,
   "metadata": {},
   "outputs": [],
   "source": [
    "def P(N):\n",
    "    '''\n",
    "    True if N prime, else false\n",
    "    '''\n",
    "    if N < 2: return False \n",
    "    root = int(N**0.5)\n",
    "    for i in range(2,root+1):\n",
    "        if (N%i == 0):\n",
    "            return False\n",
    "    return True"
   ]
  },
  {
   "cell_type": "code",
   "execution_count": 17,
   "metadata": {},
   "outputs": [],
   "source": [
    "def prime_pair_set(size, threshold):\n",
    "    '''\n",
    "    Lowest sum of set of primes in which concatenation of\n",
    "    any two primes yields a prime, the size of the set equals \n",
    "    size and sum is <= threshold\n",
    "    '''\n",
    "    # iterate over odd N (2 < N < threshold)\n",
    "    primes, prime_sets, prime_sums = [], [], []\n",
    "    N = 3\n",
    "    opt_set, lowest_sum = [], np.inf\n",
    "    while N < threshold:\n",
    "        # check N is prime\n",
    "        is_prime = True\n",
    "        root = N**0.5\n",
    "        for p in primes:\n",
    "            if p > root:\n",
    "                break\n",
    "            if N%p == 0:\n",
    "                is_prime = False\n",
    "                break\n",
    "                \n",
    "        if not is_prime:\n",
    "            N += 2\n",
    "            continue    \n",
    "        primes += [N]\n",
    "        \n",
    "        # find sets in which N forms pair with all members\n",
    "        sN = str(N)\n",
    "        checked = {}\n",
    "        for i in range(len(prime_sets)):\n",
    "            pset, psum = prime_sets[i], prime_sums[i]\n",
    "            l = len(pset)\n",
    "            \n",
    "            # can skip if set larger than required,\n",
    "            # or if sum of potential set is > threshold \n",
    "            if l == size or (N*(size-l)+psum) > threshold:\n",
    "                continue\n",
    "                \n",
    "            for sp in pset:\n",
    "                # check if N forms pair with prime\n",
    "                if sp in checked:\n",
    "                    # pair already checked\n",
    "                    conc_prime = checked[sp]\n",
    "                else:\n",
    "                    Np, pN = int(sp + sN), int(sN + sp)\n",
    "                    conc_prime = P(Np) and P(pN)\n",
    "                    checked[sp] = conc_prime    \n",
    "                if not conc_prime:\n",
    "                    break\n",
    "            else:\n",
    "                # add to prime sets, compare sum to current best\n",
    "                new_set, new_sum = (pset + [sN]), (psum + N)\n",
    "                prime_sets += [new_set]\n",
    "                prime_sums += [new_sum]\n",
    "                if (l + 1) == size:\n",
    "                    print('%s, sum = %d' %(new_set, new_sum))\n",
    "                    if new_sum < lowest_sum:\n",
    "                        opt_set, lowest_sum = new_set, new_sum\n",
    "                        threshold = min(threshold, new_sum)           \n",
    "        prime_sets += [[sN]]\n",
    "        prime_sums += [N]\n",
    "        N += 2\n",
    "    if opt_set:\n",
    "        return lowest_sum\n",
    "    print('No solutions found for primes under threshold')\n",
    "    return"
   ]
  },
  {
   "cell_type": "code",
   "execution_count": 18,
   "metadata": {},
   "outputs": [
    {
     "name": "stdout",
     "output_type": "stream",
     "text": [
      "['13', '5197', '5701', '6733', '8389'], sum = 26033\n"
     ]
    },
    {
     "data": {
      "text/plain": [
       "26033"
      ]
     },
     "execution_count": 18,
     "metadata": {},
     "output_type": "execute_result"
    }
   ],
   "source": [
    "prime_pair_set(5, 30000)\n",
    "# should return 26033"
   ]
  }
 ],
 "metadata": {
  "kernelspec": {
   "display_name": "Python 3",
   "language": "python",
   "name": "python3"
  },
  "language_info": {
   "codemirror_mode": {
    "name": "ipython",
    "version": 3
   },
   "file_extension": ".py",
   "mimetype": "text/x-python",
   "name": "python",
   "nbconvert_exporter": "python",
   "pygments_lexer": "ipython3",
   "version": "3.7.4"
  }
 },
 "nbformat": 4,
 "nbformat_minor": 2
}
