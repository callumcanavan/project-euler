{
 "cells": [
  {
   "cell_type": "markdown",
   "metadata": {},
   "source": [
    "# Problem 26: Reciprocal cycles\n",
    "\n",
    "A unit fraction contains 1 in the numerator. The decimal representation of the unit fractions with denominators 2 to 10 are given:\n",
    "\n",
    "1/2 = 0.5,\n",
    "1/3 = 0.(3),\n",
    "1/4 = 0.25,\n",
    "1/5 = 0.2,\n",
    "1/6 = 0.1(6),\n",
    "1/7 = 0.(142857),\n",
    "1/8 = 0.125,\n",
    "1/9 = 0.(1),\n",
    "1/10 = 0.1,\n",
    "where 0.1(6) means 0.166666..., and has a 1-digit recurring cycle. It can be seen that 1/7 has a 6-digit recurring cycle.\n",
    "\n",
    "Find the value of $d < \\texttt{n}$ for which $1/d$ contains the longest recurring cycle in its decimal fraction part."
   ]
  },
  {
   "cell_type": "code",
   "execution_count": 1,
   "metadata": {},
   "outputs": [],
   "source": [
    "def recurringCycleLength(a, b):\n",
    "    # length of recurring cycle for a/b\n",
    "    rs = []\n",
    "    r = a%b\n",
    "    while not (r in rs):\n",
    "        rs += [r]\n",
    "        a = r*10\n",
    "        r = a%b\n",
    "    return len(rs) - rs.index(r)"
   ]
  },
  {
   "cell_type": "code",
   "execution_count": 2,
   "metadata": {},
   "outputs": [],
   "source": [
    "def reciprocalCycles(n):\n",
    "    # value of d < n for which 1/d contains the longest recurring\n",
    "    # cycle in decimal representation\n",
    "    longest_d = longest_c = 1\n",
    "    for d in range(1, n):\n",
    "        cyc = recurringCycleLength(1, d)\n",
    "        if (cyc > longest_c):\n",
    "            longest_d, longest_c = d, cyc\n",
    "    return longest_d"
   ]
  },
  {
   "cell_type": "code",
   "execution_count": 3,
   "metadata": {},
   "outputs": [
    {
     "data": {
      "text/plain": [
       "983"
      ]
     },
     "execution_count": 3,
     "metadata": {},
     "output_type": "execute_result"
    }
   ],
   "source": [
    "reciprocalCycles(1000)\n",
    "# should return 983"
   ]
  },
  {
   "cell_type": "markdown",
   "metadata": {},
   "source": [
    "# Problem 27: Quadratic primes\n",
    "\n",
    "Euler discovered the remarkable quadratic formula:\n",
    "\n",
    "$n^2 + n + 41$\n",
    "\n",
    "It turns out that the formula will produce 40 primes for the consecutive integer values  $0$≤$n$≤$39$. However, when $n=40$, $40^2+40+41=40(40+1)+41$ is divisible by 41, and certainly when $n=41$, $41^2+41+41$ is clearly divisible by 41.\n",
    "\n",
    "The incredible formula  $n^2$−$79n+1601$ was discovered, which produces 80 primes for the consecutive values $0$≤$n$≤$79$. The product of the coefficients, −79 and 1601, is −126479.\n",
    " \n",
    "Considering quadratics of the form:\n",
    "\n",
    "$n^2+an+b$, where $|a|$<$\\texttt{limit}$ and $|b|$≤$\\texttt{limit}$ where $|n|$ is the modulus/absolute value of $n$ e.g. $|11|=11$ and $|$−$4|=4$\n",
    "\n",
    "Find the product of the coefficients, $a$ and $b$, for the quadratic expression that produces the maximum number of primes for consecutive values of $n$, starting with $n=0$."
   ]
  },
  {
   "cell_type": "code",
   "execution_count": 4,
   "metadata": {},
   "outputs": [],
   "source": [
    "def primeSieve(n):\n",
    "    # array of prime truth values for integers from 0 to n (inclusive)\n",
    "    if n < 2: return [False]*(n+1)\n",
    "    sieve = [True] * (n+1)\n",
    "    sieve[:2] = [False] * 2\n",
    "    for i in range(2, int(n**0.5)+1):\n",
    "        if sieve[i]:\n",
    "            sieve[i**2::i] = [False] * ((n - i**2) // i + 1)\n",
    "    return sieve"
   ]
  },
  {
   "cell_type": "code",
   "execution_count": 5,
   "metadata": {},
   "outputs": [],
   "source": [
    "def isPrime(N):\n",
    "    # true if N is prime number, else false\n",
    "    if N < 2: return False \n",
    "    root = int(N**0.5)\n",
    "    for i in range(2,root+1):\n",
    "        if (N%i == 0):\n",
    "            return False\n",
    "    return True"
   ]
  },
  {
   "cell_type": "code",
   "execution_count": 6,
   "metadata": {},
   "outputs": [],
   "source": [
    "def oscillatingRange(n):\n",
    "    # generator for all integers with magnitude less than n in \n",
    "    # reverse order of magnitude\n",
    "    i = n\n",
    "    while i > 1:\n",
    "        i -= 1\n",
    "        yield i\n",
    "        yield -i\n",
    "    if n > 0: yield 0"
   ]
  },
  {
   "cell_type": "code",
   "execution_count": 7,
   "metadata": {},
   "outputs": [],
   "source": [
    "def quadraticPrimes(limit):\n",
    "    # product of coefficients for quadratic within limit\n",
    "    # that produces most consecutive primes (as described above)\n",
    "    prime_sieve = primeSieve(limit)\n",
    "    max_primes = max_a = max_b = 0\n",
    "    for b in reversed(range(limit+1)):\n",
    "        if b <= max_primes:\n",
    "            break\n",
    "        if prime_sieve[b]:\n",
    "            for a in oscillatingRange(limit):\n",
    "                consec_primes = 1\n",
    "                for n in range(1,b):\n",
    "                    quad = n**2 + a*n + b\n",
    "                    is_prime = prime_sieve[quad] if (0<=quad<=limit) else isPrime(quad)\n",
    "                    if is_prime:\n",
    "                        consec_primes += 1\n",
    "                    else:\n",
    "                        break\n",
    "                if (consec_primes > max_primes):\n",
    "                    max_a, max_b, max_primes = a, b, consec_primes\n",
    "    return max_a * max_b"
   ]
  },
  {
   "cell_type": "code",
   "execution_count": 8,
   "metadata": {},
   "outputs": [
    {
     "data": {
      "text/plain": [
       "-59231"
      ]
     },
     "execution_count": 8,
     "metadata": {},
     "output_type": "execute_result"
    }
   ],
   "source": [
    "quadraticPrimes(1000)\n",
    "# should return -59231"
   ]
  },
  {
   "cell_type": "markdown",
   "metadata": {},
   "source": [
    "# Problem 28: Number spiral diagonals\n",
    "Starting with the number 1 and moving to the right in a clockwise direction a 5 by 5 spiral is formed as follows:\n",
    "\n",
    "$21 \\ 22 \\ 23 \\ 24 \\ 25$\n",
    "\n",
    "$20 \\ 07 \\ 08 \\ 09 \\ 10 $\n",
    "\n",
    "$19 \\ 06 \\ \\underline{\\textbf{01}} \\ 02 \\ 11 $\n",
    "\n",
    "$18 \\ 05 \\ 04 \\ 03 \\ 12 $\n",
    "\n",
    "$17 \\ 16 \\ 15 \\ 14 \\ 13$\n",
    "\n",
    "It can be verified that the sum of the numbers on the diagonals (1+3+5+7+9+13+17+21+25) is 101.\n",
    "\n",
    "What is the sum of the numbers on the diagonals in an $\\texttt{n}$ by $\\texttt{n}$ spiral formed in the same way?"
   ]
  },
  {
   "cell_type": "code",
   "execution_count": 9,
   "metadata": {},
   "outputs": [],
   "source": [
    "def spiralDiagonals(n):\n",
    "    # sum of numbers on diagonals of spiral side n (described above)\n",
    "    N = (n - 1) // 2\n",
    "    return (16 * N**3 + 30 * N**2 + 26 * N + 3) // 3"
   ]
  },
  {
   "cell_type": "code",
   "execution_count": 10,
   "metadata": {},
   "outputs": [
    {
     "data": {
      "text/plain": [
       "669171001"
      ]
     },
     "execution_count": 10,
     "metadata": {},
     "output_type": "execute_result"
    }
   ],
   "source": [
    "spiralDiagonals(1001)\n",
    "# should return 669171001"
   ]
  },
  {
   "cell_type": "markdown",
   "metadata": {},
   "source": [
    "# Problem 29: Distinct powers\n",
    "Consider all integer combinations of $a^b$ for $2$ ≤ $a$ ≤ $5$ and $2$ ≤ $b$ ≤ $5$:\n",
    "\n",
    "$2^2=4$, $2^3=8$, $2^4=16$, $2^5=32$\n",
    "\n",
    "$3^2=9$, $3^3=27$, $3^4=81$, $3^5=243$\n",
    "\n",
    "$4^2=16$, $4^3=64$, $4^4=256$, $4^5=1024$\n",
    "\n",
    "$5^2=25$, $5^3=125$, $5^4=625$, $5^5=3125$\n",
    "\n",
    "If they are then placed in numerical order, with any repeats removed, we get the following sequence of 15 distinct terms:\n",
    "\n",
    "$4, 8, 9, 16, 25, 27, 32, 64, 81, 125, 243, 256, 625, 1024, 3125$\n",
    "\n",
    "How many distinct terms are in the sequence generated by $a^b$ for $2$ ≤ $a$ ≤ $\\texttt{n}$ and $2$ ≤ $b$ ≤ $\\texttt{n}$?"
   ]
  },
  {
   "cell_type": "code",
   "execution_count": 11,
   "metadata": {},
   "outputs": [],
   "source": [
    "def distinctProducts(n, m):\n",
    "    # number of distinct products ab for 1<=a<=n and 2<=b<=m\n",
    "    unchecked = [False] + [True] * (n*m)\n",
    "    n_products = 0\n",
    "    for a in range(1, n+1):\n",
    "        for b in range(2, m+1):\n",
    "            if unchecked[a*b]:\n",
    "                n_products += 1\n",
    "                unchecked[a*b] = False\n",
    "    return n_products"
   ]
  },
  {
   "cell_type": "code",
   "execution_count": 12,
   "metadata": {},
   "outputs": [],
   "source": [
    "def distinctPowers(n):\n",
    "    # number of distinct products a^b for 1<=a<=n and 1<=b<=n\n",
    "    imperfect_powers = [True] * (n + 1)\n",
    "    root = int(n**0.5)\n",
    "    n_distinct = checked = 0\n",
    "    for a in range(2, root + 1):\n",
    "        if imperfect_powers[a]:\n",
    "            max_power = 1\n",
    "            a_pow = a**2\n",
    "            while a_pow <= n:\n",
    "                imperfect_powers[a_pow] = False\n",
    "                max_power += 1\n",
    "                a_pow *= a\n",
    "            n_distinct += distinctProducts(max_power, n)\n",
    "            checked += max_power\n",
    "    n_distinct += (n - 1) * (n - checked - 1)\n",
    "    return n_distinct"
   ]
  },
  {
   "cell_type": "code",
   "execution_count": 13,
   "metadata": {},
   "outputs": [
    {
     "data": {
      "text/plain": [
       "9183"
      ]
     },
     "execution_count": 13,
     "metadata": {},
     "output_type": "execute_result"
    }
   ],
   "source": [
    "distinctPowers(100)\n",
    "# should return 9183"
   ]
  },
  {
   "cell_type": "markdown",
   "metadata": {},
   "source": [
    "# Problem 30: Digit n powers\n",
    "Surprisingly there are only three numbers that can be written as the sum of fourth powers of their digits:\n",
    "\n",
    "$1634 = 1^4 + 6^4 + 3^4 + 4^4$\n",
    "\n",
    "$8208 = 8^4 + 2^4 + 0^4 + 8^4$\n",
    "\n",
    "$9474 = 9^4 + 4^4 + 7^4 + 4^4$\n",
    "\n",
    "As $1 = 1^4$ is not a sum it is not included.\n",
    "\n",
    "The sum of these numbers is $1634 + 8208 + 9474 = 19316$.\n",
    "\n",
    "Find the sum of all the numbers that can be written as the sum of $\\texttt{n}$th powers of their digits."
   ]
  },
  {
   "cell_type": "code",
   "execution_count": 14,
   "metadata": {},
   "outputs": [],
   "source": [
    "def digitnPowers(n):\n",
    "    # sum of numbers that can be written as the sum of nth powers\n",
    "    # of their digits\n",
    "    base = 10\n",
    "    limit = 1\n",
    "    while (base**limit <= (base-1)**n * limit):\n",
    "        limit += 1\n",
    "    num_sum = 0\n",
    "    for i in range(base, base**limit):\n",
    "        pow_sum = sum(int(d)**n for d in str(i))\n",
    "        if (i == pow_sum):\n",
    "            num_sum += i\n",
    "    return num_sum"
   ]
  },
  {
   "cell_type": "code",
   "execution_count": 15,
   "metadata": {},
   "outputs": [
    {
     "data": {
      "text/plain": [
       "443839"
      ]
     },
     "execution_count": 15,
     "metadata": {},
     "output_type": "execute_result"
    }
   ],
   "source": [
    "digitnPowers(5)\n",
    "# should return 443839"
   ]
  }
 ],
 "metadata": {
  "kernelspec": {
   "display_name": "Python 3",
   "language": "python",
   "name": "python3"
  },
  "language_info": {
   "codemirror_mode": {
    "name": "ipython",
    "version": 3
   },
   "file_extension": ".py",
   "mimetype": "text/x-python",
   "name": "python",
   "nbconvert_exporter": "python",
   "pygments_lexer": "ipython3",
   "version": "3.7.4"
  }
 },
 "nbformat": 4,
 "nbformat_minor": 2
}
